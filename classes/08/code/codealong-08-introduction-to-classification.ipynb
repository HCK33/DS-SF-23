{
 "cells": [
  {
   "cell_type": "markdown",
   "metadata": {},
   "source": [
    "# DS-SF-23 | Codealong 08 | Introduction to Classification"
   ]
  },
  {
   "cell_type": "code",
   "execution_count": 70,
   "metadata": {
    "collapsed": false
   },
   "outputs": [],
   "source": [
    "import os\n",
    "import numpy as np\n",
    "import pandas as pd\n",
    "import csv\n",
    "import matplotlib.pyplot as plt\n",
    "import statsmodels.api as sm\n",
    "import statsmodels.formula.api as smf\n",
    "from sklearn import neighbors, metrics, grid_search, cross_validation\n",
    "\n",
    "pd.set_option('display.max_rows', 10)\n",
    "pd.set_option('display.notebook_repr_html', True)\n",
    "pd.set_option('display.max_columns', 10)\n",
    "\n",
    "%matplotlib inline\n",
    "plt.style.use('ggplot')"
   ]
  },
  {
   "cell_type": "markdown",
   "metadata": {},
   "source": [
    "## Review and Activity | Customer Retention Rates"
   ]
  },
  {
   "cell_type": "code",
   "execution_count": 71,
   "metadata": {
    "collapsed": true
   },
   "outputs": [],
   "source": [
    "train_df = pd.DataFrame  ({'t': range(8), 'survival_rate': [1., .869, .743, .653, .593, .551, .517, .491]})"
   ]
  },
  {
   "cell_type": "code",
   "execution_count": 72,
   "metadata": {
    "collapsed": false
   },
   "outputs": [
    {
     "data": {
      "text/html": [
       "<div>\n",
       "<table border=\"1\" class=\"dataframe\">\n",
       "  <thead>\n",
       "    <tr style=\"text-align: right;\">\n",
       "      <th></th>\n",
       "      <th>survival_rate</th>\n",
       "      <th>t</th>\n",
       "    </tr>\n",
       "  </thead>\n",
       "  <tbody>\n",
       "    <tr>\n",
       "      <th>0</th>\n",
       "      <td>1.000</td>\n",
       "      <td>0</td>\n",
       "    </tr>\n",
       "    <tr>\n",
       "      <th>1</th>\n",
       "      <td>0.869</td>\n",
       "      <td>1</td>\n",
       "    </tr>\n",
       "    <tr>\n",
       "      <th>2</th>\n",
       "      <td>0.743</td>\n",
       "      <td>2</td>\n",
       "    </tr>\n",
       "    <tr>\n",
       "      <th>3</th>\n",
       "      <td>0.653</td>\n",
       "      <td>3</td>\n",
       "    </tr>\n",
       "    <tr>\n",
       "      <th>4</th>\n",
       "      <td>0.593</td>\n",
       "      <td>4</td>\n",
       "    </tr>\n",
       "    <tr>\n",
       "      <th>5</th>\n",
       "      <td>0.551</td>\n",
       "      <td>5</td>\n",
       "    </tr>\n",
       "    <tr>\n",
       "      <th>6</th>\n",
       "      <td>0.517</td>\n",
       "      <td>6</td>\n",
       "    </tr>\n",
       "    <tr>\n",
       "      <th>7</th>\n",
       "      <td>0.491</td>\n",
       "      <td>7</td>\n",
       "    </tr>\n",
       "  </tbody>\n",
       "</table>\n",
       "</div>"
      ],
      "text/plain": [
       "   survival_rate  t\n",
       "0          1.000  0\n",
       "1          0.869  1\n",
       "2          0.743  2\n",
       "3          0.653  3\n",
       "4          0.593  4\n",
       "5          0.551  5\n",
       "6          0.517  6\n",
       "7          0.491  7"
      ]
     },
     "execution_count": 72,
     "metadata": {},
     "output_type": "execute_result"
    }
   ],
   "source": [
    "train_df"
   ]
  },
  {
   "cell_type": "code",
   "execution_count": 73,
   "metadata": {
    "collapsed": true
   },
   "outputs": [],
   "source": [
    "train_df['y'] = train_df.survival_rate\n",
    "train_df['x'] = train_df.t"
   ]
  },
  {
   "cell_type": "code",
   "execution_count": 74,
   "metadata": {
    "collapsed": false
   },
   "outputs": [
    {
     "data": {
      "text/plain": [
       "[<matplotlib.lines.Line2D at 0x11bf3f2d0>]"
      ]
     },
     "execution_count": 74,
     "metadata": {},
     "output_type": "execute_result"
    },
    {
     "data": {
      "image/png": "iVBORw0KGgoAAAANSUhEUgAAAXgAAAEECAYAAAAifS8cAAAABHNCSVQICAgIfAhkiAAAAAlwSFlz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\nAElFTkSuQmCC\n",
      "text/plain": [
       "<matplotlib.figure.Figure at 0x11a563d90>"
      ]
     },
     "metadata": {},
     "output_type": "display_data"
    }
   ],
   "source": [
    "plt.figure()\n",
    "plt.xlim((0, 7))\n",
    "plt.ylim((0, 1))\n",
    "plt.scatter(train_df.x, train_df.y, marker = 'x', s = 200)\n",
    "plt.plot(train_df.x, train_df.y)"
   ]
  },
  {
   "cell_type": "code",
   "execution_count": 75,
   "metadata": {
    "collapsed": false
   },
   "outputs": [],
   "source": [
    "linear_model = smf.ols(formula = 'y ~ x', data = train_df).fit()"
   ]
  },
  {
   "cell_type": "code",
   "execution_count": 76,
   "metadata": {
    "collapsed": false
   },
   "outputs": [
    {
     "data": {
      "text/html": [
       "<table class=\"simpletable\">\n",
       "<caption>OLS Regression Results</caption>\n",
       "<tr>\n",
       "  <th>Dep. Variable:</th>            <td>y</td>        <th>  R-squared:         </th> <td>   0.922</td>\n",
       "</tr>\n",
       "<tr>\n",
       "  <th>Model:</th>                   <td>OLS</td>       <th>  Adj. R-squared:    </th> <td>   0.909</td>\n",
       "</tr>\n",
       "<tr>\n",
       "  <th>Method:</th>             <td>Least Squares</td>  <th>  F-statistic:       </th> <td>   70.91</td>\n",
       "</tr>\n",
       "<tr>\n",
       "  <th>Date:</th>             <td>Tue, 31 May 2016</td> <th>  Prob (F-statistic):</th> <td>0.000153</td>\n",
       "</tr>\n",
       "<tr>\n",
       "  <th>Time:</th>                 <td>21:06:05</td>     <th>  Log-Likelihood:    </th> <td>  13.061</td>\n",
       "</tr>\n",
       "<tr>\n",
       "  <th>No. Observations:</th>      <td>     8</td>      <th>  AIC:               </th> <td>  -22.12</td>\n",
       "</tr>\n",
       "<tr>\n",
       "  <th>Df Residuals:</th>          <td>     6</td>      <th>  BIC:               </th> <td>  -21.96</td>\n",
       "</tr>\n",
       "<tr>\n",
       "  <th>Df Model:</th>              <td>     1</td>      <th>                     </th>     <td> </td>   \n",
       "</tr>\n",
       "<tr>\n",
       "  <th>Covariance Type:</th>      <td>nonrobust</td>    <th>                     </th>     <td> </td>   \n",
       "</tr>\n",
       "</table>\n",
       "<table class=\"simpletable\">\n",
       "<tr>\n",
       "      <td></td>         <th>coef</th>     <th>std err</th>      <th>t</th>      <th>P>|t|</th> <th>[95.0% Conf. Int.]</th> \n",
       "</tr>\n",
       "<tr>\n",
       "  <th>Intercept</th> <td>    0.9254</td> <td>    0.035</td> <td>   26.258</td> <td> 0.000</td> <td>    0.839     1.012</td>\n",
       "</tr>\n",
       "<tr>\n",
       "  <th>x</th>         <td>   -0.0709</td> <td>    0.008</td> <td>   -8.421</td> <td> 0.000</td> <td>   -0.092    -0.050</td>\n",
       "</tr>\n",
       "</table>\n",
       "<table class=\"simpletable\">\n",
       "<tr>\n",
       "  <th>Omnibus:</th>       <td> 1.277</td> <th>  Durbin-Watson:     </th> <td>   0.634</td>\n",
       "</tr>\n",
       "<tr>\n",
       "  <th>Prob(Omnibus):</th> <td> 0.528</td> <th>  Jarque-Bera (JB):  </th> <td>   0.711</td>\n",
       "</tr>\n",
       "<tr>\n",
       "  <th>Skew:</th>          <td> 0.310</td> <th>  Prob(JB):          </th> <td>   0.701</td>\n",
       "</tr>\n",
       "<tr>\n",
       "  <th>Kurtosis:</th>      <td> 1.678</td> <th>  Cond. No.          </th> <td>    7.95</td>\n",
       "</tr>\n",
       "</table>"
      ],
      "text/plain": [
       "<class 'statsmodels.iolib.summary.Summary'>\n",
       "\"\"\"\n",
       "                            OLS Regression Results                            \n",
       "==============================================================================\n",
       "Dep. Variable:                      y   R-squared:                       0.922\n",
       "Model:                            OLS   Adj. R-squared:                  0.909\n",
       "Method:                 Least Squares   F-statistic:                     70.91\n",
       "Date:                Tue, 31 May 2016   Prob (F-statistic):           0.000153\n",
       "Time:                        21:06:05   Log-Likelihood:                 13.061\n",
       "No. Observations:                   8   AIC:                            -22.12\n",
       "Df Residuals:                       6   BIC:                            -21.96\n",
       "Df Model:                           1                                         \n",
       "Covariance Type:            nonrobust                                         \n",
       "==============================================================================\n",
       "                 coef    std err          t      P>|t|      [95.0% Conf. Int.]\n",
       "------------------------------------------------------------------------------\n",
       "Intercept      0.9254      0.035     26.258      0.000         0.839     1.012\n",
       "x             -0.0709      0.008     -8.421      0.000        -0.092    -0.050\n",
       "==============================================================================\n",
       "Omnibus:                        1.277   Durbin-Watson:                   0.634\n",
       "Prob(Omnibus):                  0.528   Jarque-Bera (JB):                0.711\n",
       "Skew:                           0.310   Prob(JB):                        0.701\n",
       "Kurtosis:                       1.678   Cond. No.                         7.95\n",
       "==============================================================================\n",
       "\n",
       "Warnings:\n",
       "[1] Standard Errors assume that the covariance matrix of the errors is correctly specified.\n",
       "\"\"\""
      ]
     },
     "execution_count": 76,
     "metadata": {},
     "output_type": "execute_result"
    }
   ],
   "source": [
    "linear_model.summary()"
   ]
  },
  {
   "cell_type": "code",
   "execution_count": 77,
   "metadata": {
    "collapsed": false
   },
   "outputs": [
    {
     "data": {
      "text/plain": [
       "Intercept    0.925417\n",
       "x           -0.070940\n",
       "dtype: float64"
      ]
     },
     "execution_count": 77,
     "metadata": {},
     "output_type": "execute_result"
    }
   ],
   "source": [
    "linear_model.params"
   ]
  },
  {
   "cell_type": "code",
   "execution_count": 78,
   "metadata": {
    "collapsed": true
   },
   "outputs": [],
   "source": [
    "def linear_y_hat(x):\n",
<<<<<<< HEAD
    "    linear_model.params.Intercept + x * linear_model.params \n",
    "    "
=======
    "    # TODO"
>>>>>>> upstream/master
   ]
  },
  {
   "cell_type": "code",
   "execution_count": 79,
   "metadata": {
    "collapsed": false
   },
   "outputs": [
    {
     "ename": "AttributeError",
     "evalue": "'Series' object has no attribute 'find'",
     "output_type": "error",
     "traceback": [
      "\u001b[0;31m---------------------------------------------------------------------------\u001b[0m",
      "\u001b[0;31mAttributeError\u001b[0m                            Traceback (most recent call last)",
      "\u001b[0;32m<ipython-input-79-7b2f066d766d>\u001b[0m in \u001b[0;36m<module>\u001b[0;34m()\u001b[0m\n\u001b[1;32m      5\u001b[0m \u001b[0mplt\u001b[0m\u001b[0;34m.\u001b[0m\u001b[0mylim\u001b[0m\u001b[0;34m(\u001b[0m\u001b[0;34m(\u001b[0m\u001b[0;36m0\u001b[0m\u001b[0;34m,\u001b[0m \u001b[0;36m1\u001b[0m\u001b[0;34m)\u001b[0m\u001b[0;34m)\u001b[0m\u001b[0;34m\u001b[0m\u001b[0m\n\u001b[1;32m      6\u001b[0m \u001b[0mplt\u001b[0m\u001b[0;34m.\u001b[0m\u001b[0mscatter\u001b[0m\u001b[0;34m(\u001b[0m\u001b[0mtrain_df\u001b[0m\u001b[0;34m.\u001b[0m\u001b[0mx\u001b[0m\u001b[0;34m,\u001b[0m \u001b[0mtrain_df\u001b[0m\u001b[0;34m.\u001b[0m\u001b[0my\u001b[0m\u001b[0;34m,\u001b[0m \u001b[0mmarker\u001b[0m \u001b[0;34m=\u001b[0m \u001b[0;34m'x'\u001b[0m\u001b[0;34m,\u001b[0m \u001b[0ms\u001b[0m \u001b[0;34m=\u001b[0m \u001b[0;36m200\u001b[0m\u001b[0;34m)\u001b[0m\u001b[0;34m\u001b[0m\u001b[0m\n\u001b[0;32m----> 7\u001b[0;31m \u001b[0mplt\u001b[0m\u001b[0;34m.\u001b[0m\u001b[0mplot\u001b[0m\u001b[0;34m(\u001b[0m\u001b[0mxs\u001b[0m\u001b[0;34m,\u001b[0m \u001b[0mxs\u001b[0m\u001b[0;34m.\u001b[0m\u001b[0mapply\u001b[0m\u001b[0;34m(\u001b[0m\u001b[0mlinear_y_hat\u001b[0m\u001b[0;34m)\u001b[0m\u001b[0;34m,\u001b[0m \u001b[0mlabel\u001b[0m \u001b[0;34m=\u001b[0m \u001b[0;34m'linear'\u001b[0m\u001b[0;34m)\u001b[0m\u001b[0;34m\u001b[0m\u001b[0m\n\u001b[0m\u001b[1;32m      8\u001b[0m \u001b[0mplt\u001b[0m\u001b[0;34m.\u001b[0m\u001b[0mlegend\u001b[0m\u001b[0;34m(\u001b[0m\u001b[0;34m)\u001b[0m\u001b[0;34m\u001b[0m\u001b[0m\n",
      "\u001b[0;32m/Applications/anaconda/lib/python2.7/site-packages/matplotlib/pyplot.pyc\u001b[0m in \u001b[0;36mplot\u001b[0;34m(*args, **kwargs)\u001b[0m\n\u001b[1;32m   3152\u001b[0m         \u001b[0max\u001b[0m\u001b[0;34m.\u001b[0m\u001b[0mhold\u001b[0m\u001b[0;34m(\u001b[0m\u001b[0mhold\u001b[0m\u001b[0;34m)\u001b[0m\u001b[0;34m\u001b[0m\u001b[0m\n\u001b[1;32m   3153\u001b[0m     \u001b[0;32mtry\u001b[0m\u001b[0;34m:\u001b[0m\u001b[0;34m\u001b[0m\u001b[0m\n\u001b[0;32m-> 3154\u001b[0;31m         \u001b[0mret\u001b[0m \u001b[0;34m=\u001b[0m \u001b[0max\u001b[0m\u001b[0;34m.\u001b[0m\u001b[0mplot\u001b[0m\u001b[0;34m(\u001b[0m\u001b[0;34m*\u001b[0m\u001b[0margs\u001b[0m\u001b[0;34m,\u001b[0m \u001b[0;34m**\u001b[0m\u001b[0mkwargs\u001b[0m\u001b[0;34m)\u001b[0m\u001b[0;34m\u001b[0m\u001b[0m\n\u001b[0m\u001b[1;32m   3155\u001b[0m     \u001b[0;32mfinally\u001b[0m\u001b[0;34m:\u001b[0m\u001b[0;34m\u001b[0m\u001b[0m\n\u001b[1;32m   3156\u001b[0m         \u001b[0max\u001b[0m\u001b[0;34m.\u001b[0m\u001b[0mhold\u001b[0m\u001b[0;34m(\u001b[0m\u001b[0mwashold\u001b[0m\u001b[0;34m)\u001b[0m\u001b[0;34m\u001b[0m\u001b[0m\n",
      "\u001b[0;32m/Applications/anaconda/lib/python2.7/site-packages/matplotlib/__init__.pyc\u001b[0m in \u001b[0;36minner\u001b[0;34m(ax, *args, **kwargs)\u001b[0m\n\u001b[1;32m   1810\u001b[0m                     warnings.warn(msg % (label_namer, func.__name__),\n\u001b[1;32m   1811\u001b[0m                                   RuntimeWarning, stacklevel=2)\n\u001b[0;32m-> 1812\u001b[0;31m             \u001b[0;32mreturn\u001b[0m \u001b[0mfunc\u001b[0m\u001b[0;34m(\u001b[0m\u001b[0max\u001b[0m\u001b[0;34m,\u001b[0m \u001b[0;34m*\u001b[0m\u001b[0margs\u001b[0m\u001b[0;34m,\u001b[0m \u001b[0;34m**\u001b[0m\u001b[0mkwargs\u001b[0m\u001b[0;34m)\u001b[0m\u001b[0;34m\u001b[0m\u001b[0m\n\u001b[0m\u001b[1;32m   1813\u001b[0m         \u001b[0mpre_doc\u001b[0m \u001b[0;34m=\u001b[0m \u001b[0minner\u001b[0m\u001b[0;34m.\u001b[0m\u001b[0m__doc__\u001b[0m\u001b[0;34m\u001b[0m\u001b[0m\n\u001b[1;32m   1814\u001b[0m         \u001b[0;32mif\u001b[0m \u001b[0mpre_doc\u001b[0m \u001b[0;32mis\u001b[0m \u001b[0mNone\u001b[0m\u001b[0;34m:\u001b[0m\u001b[0;34m\u001b[0m\u001b[0m\n",
      "\u001b[0;32m/Applications/anaconda/lib/python2.7/site-packages/matplotlib/axes/_axes.pyc\u001b[0m in \u001b[0;36mplot\u001b[0;34m(self, *args, **kwargs)\u001b[0m\n\u001b[1;32m   1422\u001b[0m             \u001b[0mkwargs\u001b[0m\u001b[0;34m[\u001b[0m\u001b[0;34m'color'\u001b[0m\u001b[0;34m]\u001b[0m \u001b[0;34m=\u001b[0m \u001b[0mc\u001b[0m\u001b[0;34m\u001b[0m\u001b[0m\n\u001b[1;32m   1423\u001b[0m \u001b[0;34m\u001b[0m\u001b[0m\n\u001b[0;32m-> 1424\u001b[0;31m         \u001b[0;32mfor\u001b[0m \u001b[0mline\u001b[0m \u001b[0;32min\u001b[0m \u001b[0mself\u001b[0m\u001b[0;34m.\u001b[0m\u001b[0m_get_lines\u001b[0m\u001b[0;34m(\u001b[0m\u001b[0;34m*\u001b[0m\u001b[0margs\u001b[0m\u001b[0;34m,\u001b[0m \u001b[0;34m**\u001b[0m\u001b[0mkwargs\u001b[0m\u001b[0;34m)\u001b[0m\u001b[0;34m:\u001b[0m\u001b[0;34m\u001b[0m\u001b[0m\n\u001b[0m\u001b[1;32m   1425\u001b[0m             \u001b[0mself\u001b[0m\u001b[0;34m.\u001b[0m\u001b[0madd_line\u001b[0m\u001b[0;34m(\u001b[0m\u001b[0mline\u001b[0m\u001b[0;34m)\u001b[0m\u001b[0;34m\u001b[0m\u001b[0m\n\u001b[1;32m   1426\u001b[0m             \u001b[0mlines\u001b[0m\u001b[0;34m.\u001b[0m\u001b[0mappend\u001b[0m\u001b[0;34m(\u001b[0m\u001b[0mline\u001b[0m\u001b[0;34m)\u001b[0m\u001b[0;34m\u001b[0m\u001b[0m\n",
      "\u001b[0;32m/Applications/anaconda/lib/python2.7/site-packages/matplotlib/axes/_base.pyc\u001b[0m in \u001b[0;36m_grab_next_args\u001b[0;34m(self, *args, **kwargs)\u001b[0m\n\u001b[1;32m    384\u001b[0m                 \u001b[0;32mreturn\u001b[0m\u001b[0;34m\u001b[0m\u001b[0m\n\u001b[1;32m    385\u001b[0m             \u001b[0;32mif\u001b[0m \u001b[0mlen\u001b[0m\u001b[0;34m(\u001b[0m\u001b[0mremaining\u001b[0m\u001b[0;34m)\u001b[0m \u001b[0;34m<=\u001b[0m \u001b[0;36m3\u001b[0m\u001b[0;34m:\u001b[0m\u001b[0;34m\u001b[0m\u001b[0m\n\u001b[0;32m--> 386\u001b[0;31m                 \u001b[0;32mfor\u001b[0m \u001b[0mseg\u001b[0m \u001b[0;32min\u001b[0m \u001b[0mself\u001b[0m\u001b[0;34m.\u001b[0m\u001b[0m_plot_args\u001b[0m\u001b[0;34m(\u001b[0m\u001b[0mremaining\u001b[0m\u001b[0;34m,\u001b[0m \u001b[0mkwargs\u001b[0m\u001b[0;34m)\u001b[0m\u001b[0;34m:\u001b[0m\u001b[0;34m\u001b[0m\u001b[0m\n\u001b[0m\u001b[1;32m    387\u001b[0m                     \u001b[0;32myield\u001b[0m \u001b[0mseg\u001b[0m\u001b[0;34m\u001b[0m\u001b[0m\n\u001b[1;32m    388\u001b[0m                 \u001b[0;32mreturn\u001b[0m\u001b[0;34m\u001b[0m\u001b[0m\n",
      "\u001b[0;32m/Applications/anaconda/lib/python2.7/site-packages/matplotlib/axes/_base.pyc\u001b[0m in \u001b[0;36m_plot_args\u001b[0;34m(self, tup, kwargs)\u001b[0m\n\u001b[1;32m    334\u001b[0m         \u001b[0mret\u001b[0m \u001b[0;34m=\u001b[0m \u001b[0;34m[\u001b[0m\u001b[0;34m]\u001b[0m\u001b[0;34m\u001b[0m\u001b[0m\n\u001b[1;32m    335\u001b[0m         \u001b[0;32mif\u001b[0m \u001b[0mlen\u001b[0m\u001b[0;34m(\u001b[0m\u001b[0mtup\u001b[0m\u001b[0;34m)\u001b[0m \u001b[0;34m>\u001b[0m \u001b[0;36m1\u001b[0m \u001b[0;32mand\u001b[0m \u001b[0mis_string_like\u001b[0m\u001b[0;34m(\u001b[0m\u001b[0mtup\u001b[0m\u001b[0;34m[\u001b[0m\u001b[0;34m-\u001b[0m\u001b[0;36m1\u001b[0m\u001b[0;34m]\u001b[0m\u001b[0;34m)\u001b[0m\u001b[0;34m:\u001b[0m\u001b[0;34m\u001b[0m\u001b[0m\n\u001b[0;32m--> 336\u001b[0;31m             \u001b[0mlinestyle\u001b[0m\u001b[0;34m,\u001b[0m \u001b[0mmarker\u001b[0m\u001b[0;34m,\u001b[0m \u001b[0mcolor\u001b[0m \u001b[0;34m=\u001b[0m \u001b[0m_process_plot_format\u001b[0m\u001b[0;34m(\u001b[0m\u001b[0mtup\u001b[0m\u001b[0;34m[\u001b[0m\u001b[0;34m-\u001b[0m\u001b[0;36m1\u001b[0m\u001b[0;34m]\u001b[0m\u001b[0;34m)\u001b[0m\u001b[0;34m\u001b[0m\u001b[0m\n\u001b[0m\u001b[1;32m    337\u001b[0m             \u001b[0mtup\u001b[0m \u001b[0;34m=\u001b[0m \u001b[0mtup\u001b[0m\u001b[0;34m[\u001b[0m\u001b[0;34m:\u001b[0m\u001b[0;34m-\u001b[0m\u001b[0;36m1\u001b[0m\u001b[0;34m]\u001b[0m\u001b[0;34m\u001b[0m\u001b[0m\n\u001b[1;32m    338\u001b[0m         \u001b[0;32melif\u001b[0m \u001b[0mlen\u001b[0m\u001b[0;34m(\u001b[0m\u001b[0mtup\u001b[0m\u001b[0;34m)\u001b[0m \u001b[0;34m==\u001b[0m \u001b[0;36m3\u001b[0m\u001b[0;34m:\u001b[0m\u001b[0;34m\u001b[0m\u001b[0m\n",
      "\u001b[0;32m/Applications/anaconda/lib/python2.7/site-packages/matplotlib/axes/_base.pyc\u001b[0m in \u001b[0;36m_process_plot_format\u001b[0;34m(fmt)\u001b[0m\n\u001b[1;32m     84\u001b[0m     \u001b[0;31m# handle the multi char special cases and strip them from the\u001b[0m\u001b[0;34m\u001b[0m\u001b[0;34m\u001b[0m\u001b[0m\n\u001b[1;32m     85\u001b[0m     \u001b[0;31m# string\u001b[0m\u001b[0;34m\u001b[0m\u001b[0;34m\u001b[0m\u001b[0m\n\u001b[0;32m---> 86\u001b[0;31m     \u001b[0;32mif\u001b[0m \u001b[0mfmt\u001b[0m\u001b[0;34m.\u001b[0m\u001b[0mfind\u001b[0m\u001b[0;34m(\u001b[0m\u001b[0;34m'--'\u001b[0m\u001b[0;34m)\u001b[0m \u001b[0;34m>=\u001b[0m \u001b[0;36m0\u001b[0m\u001b[0;34m:\u001b[0m\u001b[0;34m\u001b[0m\u001b[0m\n\u001b[0m\u001b[1;32m     87\u001b[0m         \u001b[0mlinestyle\u001b[0m \u001b[0;34m=\u001b[0m \u001b[0;34m'--'\u001b[0m\u001b[0;34m\u001b[0m\u001b[0m\n\u001b[1;32m     88\u001b[0m         \u001b[0mfmt\u001b[0m \u001b[0;34m=\u001b[0m \u001b[0mfmt\u001b[0m\u001b[0;34m.\u001b[0m\u001b[0mreplace\u001b[0m\u001b[0;34m(\u001b[0m\u001b[0;34m'--'\u001b[0m\u001b[0;34m,\u001b[0m \u001b[0;34m''\u001b[0m\u001b[0;34m)\u001b[0m\u001b[0;34m\u001b[0m\u001b[0m\n",
      "\u001b[0;32m/Applications/anaconda/lib/python2.7/site-packages/pandas/core/generic.pyc\u001b[0m in \u001b[0;36m__getattr__\u001b[0;34m(self, name)\u001b[0m\n\u001b[1;32m   2667\u001b[0m             \u001b[0;32mif\u001b[0m \u001b[0mname\u001b[0m \u001b[0;32min\u001b[0m \u001b[0mself\u001b[0m\u001b[0;34m.\u001b[0m\u001b[0m_info_axis\u001b[0m\u001b[0;34m:\u001b[0m\u001b[0;34m\u001b[0m\u001b[0m\n\u001b[1;32m   2668\u001b[0m                 \u001b[0;32mreturn\u001b[0m \u001b[0mself\u001b[0m\u001b[0;34m[\u001b[0m\u001b[0mname\u001b[0m\u001b[0;34m]\u001b[0m\u001b[0;34m\u001b[0m\u001b[0m\n\u001b[0;32m-> 2669\u001b[0;31m             \u001b[0;32mreturn\u001b[0m \u001b[0mobject\u001b[0m\u001b[0;34m.\u001b[0m\u001b[0m__getattribute__\u001b[0m\u001b[0;34m(\u001b[0m\u001b[0mself\u001b[0m\u001b[0;34m,\u001b[0m \u001b[0mname\u001b[0m\u001b[0;34m)\u001b[0m\u001b[0;34m\u001b[0m\u001b[0m\n\u001b[0m\u001b[1;32m   2670\u001b[0m \u001b[0;34m\u001b[0m\u001b[0m\n\u001b[1;32m   2671\u001b[0m     \u001b[0;32mdef\u001b[0m \u001b[0m__setattr__\u001b[0m\u001b[0;34m(\u001b[0m\u001b[0mself\u001b[0m\u001b[0;34m,\u001b[0m \u001b[0mname\u001b[0m\u001b[0;34m,\u001b[0m \u001b[0mvalue\u001b[0m\u001b[0;34m)\u001b[0m\u001b[0;34m:\u001b[0m\u001b[0;34m\u001b[0m\u001b[0m\n",
      "\u001b[0;31mAttributeError\u001b[0m: 'Series' object has no attribute 'find'"
     ]
    },
    {
     "data": {
      "image/png": "iVBORw0KGgoAAAANSUhEUgAAAXgAAAEECAYAAAAifS8cAAAABHNCSVQICAgIfAhkiAAAAAlwSFlz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\nRK5CYII=\n",
      "text/plain": [
       "<matplotlib.figure.Figure at 0x11bd75650>"
      ]
     },
     "metadata": {},
     "output_type": "display_data"
    }
   ],
   "source": [
    "xs = pd.Series(np.linspace(0, 7, 700))\n",
    "\n",
    "plt.figure()\n",
    "plt.xlim((xs.min(), xs.max()))\n",
    "plt.ylim((0, 1))\n",
    "plt.scatter(train_df.x, train_df.y, marker = 'x', s = 200)\n",
    "plt.plot(xs, xs.apply(linear_y_hat), label = 'linear')\n",
    "plt.legend()"
   ]
  },
  {
   "cell_type": "code",
   "execution_count": null,
   "metadata": {
    "collapsed": false
   },
   "outputs": [],
   "source": [
    "quadratic_model = smf.ols(formula = 'y ~ x + x ^ 2', data = train_df).fit()"
   ]
  },
  {
   "cell_type": "code",
   "execution_count": null,
   "metadata": {
    "collapsed": false
   },
   "outputs": [],
   "source": [
    "quadratic_model.summary()"
   ]
  },
  {
   "cell_type": "code",
   "execution_count": null,
   "metadata": {
    "collapsed": true
   },
   "outputs": [],
   "source": [
<<<<<<< HEAD
    "def quadratic_y_hat(t):\n",
    "   return quadratic_model.params[0] \\\n",
    "          + quadratic_model.params[1] * t \\\n",
    "          + quadratic_model.params[2] * (t ** 2)"
=======
    "def quadratic_y_hat(x):\n",
    "    return quadratic_model.params[0] \\\n",
    "           + quadratic_model.params[1] * x \\\n",
    "           + quadratic_model.params[2] * (x ** 2)"
>>>>>>> upstream/master
   ]
  },
  {
   "cell_type": "code",
   "execution_count": null,
   "metadata": {
    "collapsed": false
   },
   "outputs": [],
   "source": [
    "xs = pd.Series(np.linspace(0, 7, 700))\n",
    "\n",
    "plt.figure()\n",
    "plt.xlim((xs.min(), xs.max()))\n",
    "plt.ylim((0, 1))\n",
    "plt.scatter(train_df.x, train_df.y, marker = 'x', s = 200)\n",
    "plt.plot(xs, xs.apply(linear_y_hat), label = 'linear')\n",
    "plt.plot(xs, xs.apply(quadratic_y_hat), label = 'quadratic')\n",
    "plt.legend()"
   ]
  },
  {
   "cell_type": "code",
   "execution_count": null,
   "metadata": {
    "collapsed": false
   },
   "outputs": [],
   "source": [
    "def polynomial_y_hat(x):\n",
    "    return 1.\\\n",
    "           - .100597619 * x \\\n",
    "           - .0596777778 * (x ** 2) \\\n",
    "           + .0380569444 * (x ** 3) \\\n",
    "           - .0101944444 * (x ** 4) \\\n",
    "           + .00153611111 * (x ** 5) \\\n",
    "           - .000127777778 * (x ** 6) \\\n",
    "           + .00000456349206 * (x ** 7)"
   ]
  },
  {
   "cell_type": "code",
   "execution_count": null,
   "metadata": {
    "collapsed": false
   },
   "outputs": [],
   "source": [
    "xs = pd.Series(np.linspace(0, 7, 700))\n",
    "\n",
    "plt.figure()\n",
    "plt.xlim((xs.min(), xs.max()))\n",
    "plt.ylim((0, 1))\n",
    "plt.scatter(train_df.x, train_df.y, marker = 'x', s = 200)\n",
    "plt.plot(xs, xs.apply(linear_y_hat), label = 'linear')\n",
    "plt.plot(xs, xs.apply(quadratic_y_hat), label = 'quadratic')\n",
    "plt.plot(xs, xs.apply(polynomial_y_hat), label = 'polynomial')\n",
    "plt.legend()"
   ]
  },
  {
   "cell_type": "code",
   "execution_count": null,
   "metadata": {
    "collapsed": false
   },
   "outputs": [],
   "source": [
    "xs = pd.Series(np.linspace(0, 12, 1200))\n",
    "\n",
    "plt.figure()\n",
    "plt.xlim((xs.min(), xs.max()))\n",
    "plt.ylim((0, 2))\n",
    "plt.scatter(train_df.x, train_df.y, marker = 'x', s = 200)\n",
    "plt.plot(xs, xs.apply(linear_y_hat), label = 'linear')\n",
    "plt.plot(xs, xs.apply(quadratic_y_hat), label = 'quadratic')\n",
    "plt.plot(xs, xs.apply(polynomial_y_hat), label = 'polynomial')\n",
    "plt.axvline(x = 7)\n",
    "plt.legend()"
   ]
  },
  {
   "cell_type": "code",
   "execution_count": null,
   "metadata": {
    "collapsed": true
   },
   "outputs": [],
   "source": [
    "# TODO"
   ]
  },
  {
   "cell_type": "code",
   "execution_count": null,
   "metadata": {
    "collapsed": false
   },
   "outputs": [],
   "source": [
    "test_df"
   ]
  },
  {
   "cell_type": "code",
   "execution_count": null,
   "metadata": {
    "collapsed": true
   },
   "outputs": [],
   "source": [
    "test_df['y'] = test_df.survival_rate\n",
    "test_df['x'] = test_df.t"
   ]
  },
  {
   "cell_type": "code",
   "execution_count": null,
   "metadata": {
    "collapsed": false
   },
   "outputs": [],
   "source": [
    "xs = pd.Series(np.linspace(0, 12, 1200))\n",
    "\n",
    "plt.figure()\n",
    "plt.xlim((xs.min(), xs.max()))\n",
    "plt.ylim((0, 2))\n",
    "plt.scatter(train_df.x, train_df.y, marker = 'x', s = 200)\n",
    "plt.plot(xs, xs.apply(linear_y_hat), label = 'linear')\n",
    "plt.plot(xs, xs.apply(quadratic_y_hat), label = 'quadratic')\n",
    "plt.plot(xs, xs.apply(polynomial_y_hat), label = 'polynomial')\n",
    "plt.axvline(x = 7)\n",
    "plt.scatter(test_df.x, test_df.y, marker = 'x', s = 200)\n",
    "plt.legend()"
   ]
  },
  {
   "cell_type": "code",
   "execution_count": null,
   "metadata": {
    "collapsed": false
   },
   "outputs": [],
   "source": [
    "# TODO"
   ]
  },
  {
   "cell_type": "code",
   "execution_count": null,
   "metadata": {
    "collapsed": false
   },
   "outputs": [],
   "source": [
    "# TODO"
   ]
  },
  {
   "cell_type": "code",
   "execution_count": null,
   "metadata": {
    "collapsed": false
   },
   "outputs": [],
   "source": [
    "# TODO"
   ]
  },
  {
   "cell_type": "code",
   "execution_count": null,
   "metadata": {
    "collapsed": false
   },
   "outputs": [],
   "source": [
    "plt.figure()\n",
    "plt.xlim((test_df.y.min(), test_df.y.max()))\n",
    "plt.ylim((0, 2))\n",
    "plt.plot(test_df.y, test_df.y, label = 'y')\n",
    "plt.plot(test_df.y, test_df.linear_y_hat, label = 'linear_y_hat')\n",
    "plt.plot(test_df.y, test_df.quadratic_y_hat, label = 'quadratic_y_hat')\n",
    "plt.plot(test_df.y, test_df.polynomial_y_hat, label = 'polynomial_y_hat')\n",
    "plt.legend()"
   ]
  },
  {
   "cell_type": "markdown",
   "metadata": {},
   "source": [
    "## `Iris` dataset"
   ]
  },
  {
   "cell_type": "code",
   "execution_count": null,
   "metadata": {
    "collapsed": false
   },
   "outputs": [],
   "source": [
    "df = pd.read_csv(os.path.join('..', 'datasets', 'iris.csv'))"
   ]
  },
  {
   "cell_type": "code",
   "execution_count": null,
   "metadata": {
    "collapsed": false
   },
   "outputs": [],
   "source": [
    "df"
   ]
  },
  {
   "cell_type": "markdown",
   "metadata": {},
   "source": [
    "## Part A - Activity | Iris Dataset | Exploratory Data Analysis"
   ]
  },
  {
   "cell_type": "code",
   "execution_count": null,
   "metadata": {
    "collapsed": true
   },
   "outputs": [],
   "source": [
    "color = df.Species.map(pd.Series({'Setosa': 'red', 'Versicolor': 'green', 'Virginica': 'blue'}))"
   ]
  },
  {
   "cell_type": "code",
   "execution_count": null,
   "metadata": {
    "collapsed": false
   },
   "outputs": [],
   "source": [
    "df.plot('SepalLength', 'SepalWidth', kind = 'scatter', c = color)"
   ]
  },
  {
   "cell_type": "code",
   "execution_count": null,
   "metadata": {
    "collapsed": false
   },
   "outputs": [],
   "source": [
    "df.plot('SepalWidth', 'PedalWidth', kind = 'scatter', c = color)"
   ]
  },
  {
   "cell_type": "code",
   "execution_count": null,
   "metadata": {
    "collapsed": false
   },
   "outputs": [],
   "source": [
    "# TODO"
   ]
  },
  {
   "cell_type": "code",
   "execution_count": null,
   "metadata": {
    "collapsed": false
   },
   "outputs": [],
   "source": [
    "# TODO"
   ]
  },
  {
   "cell_type": "markdown",
   "metadata": {},
   "source": [
    "## Part B - First hand-coded classifier"
   ]
  },
  {
   "cell_type": "code",
   "execution_count": 83,
   "metadata": {
    "collapsed": false
   },
   "outputs": [],
   "source": [
    "def my_first_classifier(row):\n",
    "    if row.PetalLength < 2: \n",
    "        return 'Setosa'\n",
    "    else: \n",
    "        return 'Versicolor'"
   ]
  },
  {
   "cell_type": "code",
   "execution_count": 84,
   "metadata": {
    "collapsed": false
   },
   "outputs": [
    {
     "data": {
      "text/plain": [
       "0          Setosa\n",
       "1          Setosa\n",
       "2          Setosa\n",
       "3          Setosa\n",
       "4          Setosa\n",
       "          ...    \n",
       "145    Versicolor\n",
       "146    Versicolor\n",
       "147    Versicolor\n",
       "148    Versicolor\n",
       "149    Versicolor\n",
       "dtype: object"
      ]
     },
     "execution_count": 84,
     "metadata": {},
     "output_type": "execute_result"
    }
   ],
   "source": [
    "y_hat = df.apply(my_first_classifier, axis = 1)\n",
    "\n",
    "y_hat"
   ]
  },
  {
   "cell_type": "code",
   "execution_count": 86,
   "metadata": {
    "collapsed": false
   },
   "outputs": [
    {
     "data": {
      "text/html": [
       "<div>\n",
       "<table border=\"1\" class=\"dataframe\">\n",
       "  <thead>\n",
       "    <tr style=\"text-align: right;\">\n",
       "      <th></th>\n",
       "      <th>Observed</th>\n",
       "      <th>Predicted</th>\n",
       "    </tr>\n",
       "  </thead>\n",
       "  <tbody>\n",
       "    <tr>\n",
       "      <th>0</th>\n",
       "      <td>Setosa</td>\n",
       "      <td>Setosa</td>\n",
       "    </tr>\n",
       "    <tr>\n",
       "      <th>1</th>\n",
       "      <td>Setosa</td>\n",
       "      <td>Setosa</td>\n",
       "    </tr>\n",
       "    <tr>\n",
       "      <th>2</th>\n",
       "      <td>Setosa</td>\n",
       "      <td>Setosa</td>\n",
       "    </tr>\n",
       "    <tr>\n",
       "      <th>3</th>\n",
       "      <td>Setosa</td>\n",
       "      <td>Setosa</td>\n",
       "    </tr>\n",
       "    <tr>\n",
       "      <th>4</th>\n",
       "      <td>Setosa</td>\n",
       "      <td>Setosa</td>\n",
       "    </tr>\n",
       "    <tr>\n",
       "      <th>...</th>\n",
       "      <td>...</td>\n",
       "      <td>...</td>\n",
       "    </tr>\n",
       "    <tr>\n",
       "      <th>145</th>\n",
       "      <td>Virginica</td>\n",
       "      <td>Versicolor</td>\n",
       "    </tr>\n",
       "    <tr>\n",
       "      <th>146</th>\n",
       "      <td>Virginica</td>\n",
       "      <td>Versicolor</td>\n",
       "    </tr>\n",
       "    <tr>\n",
       "      <th>147</th>\n",
       "      <td>Virginica</td>\n",
       "      <td>Versicolor</td>\n",
       "    </tr>\n",
       "    <tr>\n",
       "      <th>148</th>\n",
       "      <td>Virginica</td>\n",
       "      <td>Versicolor</td>\n",
       "    </tr>\n",
       "    <tr>\n",
       "      <th>149</th>\n",
       "      <td>Virginica</td>\n",
       "      <td>Versicolor</td>\n",
       "    </tr>\n",
       "  </tbody>\n",
       "</table>\n",
       "<p>150 rows × 2 columns</p>\n",
       "</div>"
      ],
      "text/plain": [
       "      Observed   Predicted\n",
       "0       Setosa      Setosa\n",
       "1       Setosa      Setosa\n",
       "2       Setosa      Setosa\n",
       "3       Setosa      Setosa\n",
       "4       Setosa      Setosa\n",
       "..         ...         ...\n",
       "145  Virginica  Versicolor\n",
       "146  Virginica  Versicolor\n",
       "147  Virginica  Versicolor\n",
       "148  Virginica  Versicolor\n",
       "149  Virginica  Versicolor\n",
       "\n",
       "[150 rows x 2 columns]"
      ]
     },
     "execution_count": 86,
     "metadata": {},
     "output_type": "execute_result"
    }
   ],
   "source": [
    "species_df = pd.DataFrame({'Observed': df.Species, 'Predicted': y_hat})\n",
    "\n",
    "species_df"
   ]
  },
  {
   "cell_type": "markdown",
   "metadata": {},
   "source": [
    "## Part C - Classification metrics"
   ]
  },
  {
   "cell_type": "markdown",
   "metadata": {},
   "source": [
    "### Accuracy"
   ]
  },
  {
   "cell_type": "code",
   "execution_count": 87,
   "metadata": {
    "collapsed": false
   },
   "outputs": [
    {
     "data": {
      "text/plain": [
       "0.66666666666666663"
      ]
     },
     "execution_count": 87,
     "metadata": {},
     "output_type": "execute_result"
    }
   ],
   "source": [
    "(species_df.Observed == species_df.Predicted).mean()"
   ]
  },
  {
   "cell_type": "markdown",
   "metadata": {},
   "source": [
    "### Misclassification rate"
   ]
  },
  {
   "cell_type": "code",
   "execution_count": 88,
   "metadata": {
    "collapsed": false
   },
   "outputs": [
    {
     "data": {
      "text/plain": [
       "0.33333333333333331"
      ]
     },
     "execution_count": 88,
     "metadata": {},
     "output_type": "execute_result"
    }
   ],
   "source": [
    "(species_df.Observed != species_df.Predicted).mean()"
   ]
  },
  {
   "cell_type": "markdown",
   "metadata": {},
   "source": [
    "## Part D - Activity | Second hand-coded classifier"
   ]
  },
  {
   "cell_type": "code",
   "execution_count": null,
   "metadata": {
    "collapsed": true
   },
   "outputs": [],
   "source": [
    "def my_second_classifier(row): \n",
    "    if row.PetalLength < 2: \n",
    "        return 'Setosa'\n",
    "    elif row.PetalLength < 5: \n",
    "        return "
   ]
  },
  {
   "cell_type": "code",
   "execution_count": null,
   "metadata": {
    "collapsed": false
   },
   "outputs": [],
   "source": [
    "y_hat = df.apply(my_second_classifier, axis = 1)"
   ]
  },
  {
   "cell_type": "code",
   "execution_count": null,
   "metadata": {
    "collapsed": false
   },
   "outputs": [],
   "source": [
    "sum(y_hat != df.Species)"
   ]
  },
  {
   "cell_type": "code",
   "execution_count": null,
   "metadata": {
    "collapsed": false
   },
   "outputs": [],
   "source": [
    "(y_hat == df.Species).mean()"
   ]
  },
  {
   "cell_type": "markdown",
   "metadata": {},
   "source": [
    "## Part E"
   ]
  },
  {
   "cell_type": "markdown",
   "metadata": {},
   "source": [
    "### Feature matrix and label vector"
   ]
  },
  {
   "cell_type": "code",
   "execution_count": null,
   "metadata": {
    "collapsed": true
   },
   "outputs": [],
   "source": [
    "X = df[ ['SepalLength', 'SepalWidth', 'PetalLength', 'PetalWidth'] ]\n",
    "y = df.Species"
   ]
  },
  {
   "cell_type": "code",
   "execution_count": null,
   "metadata": {
    "collapsed": false
   },
   "outputs": [],
   "source": [
    "X"
   ]
  },
  {
   "cell_type": "code",
   "execution_count": null,
   "metadata": {
    "collapsed": false
   },
   "outputs": [],
   "source": [
    "y"
   ]
  },
  {
   "cell_type": "markdown",
   "metadata": {},
   "source": [
    "### K-Nearest Neighbors (KNN)"
   ]
  },
  {
   "cell_type": "code",
   "execution_count": null,
   "metadata": {
    "collapsed": false
   },
   "outputs": [],
   "source": [
    "model = neighbors.KNeighborsClassifier(n_neighbors = 5, weights = 'uniform')\n",
    "model.fit(X, y)"
   ]
  },
  {
   "cell_type": "code",
   "execution_count": null,
   "metadata": {
    "collapsed": false
   },
   "outputs": [],
   "source": [
    "y_hat = model.predict(X)"
   ]
  },
  {
   "cell_type": "code",
   "execution_count": null,
   "metadata": {
    "collapsed": false
   },
   "outputs": [],
   "source": [
    "species_df = pd.DataFrame({'Observed': y, 'Predicted': y_hat})\n",
    "\n",
    "species_df"
   ]
  },
  {
   "cell_type": "code",
   "execution_count": null,
   "metadata": {
    "collapsed": false
   },
   "outputs": [],
   "source": [
    "species_df[species_df.Predicted != species_df.Observed]"
   ]
  },
  {
   "cell_type": "code",
   "execution_count": null,
   "metadata": {
    "collapsed": false
   },
   "outputs": [],
   "source": [
    "sum(species_df.Predicted != species_df.Observed)"
   ]
  },
  {
   "cell_type": "markdown",
   "metadata": {},
   "source": [
    "You can measure the precision of your prediction either manually or with `.score()`"
   ]
  },
  {
   "cell_type": "code",
   "execution_count": null,
   "metadata": {
    "collapsed": false
   },
   "outputs": [],
   "source": [
    "(species_df.Predicted == species_df.Observed).mean()"
   ]
  },
  {
   "cell_type": "code",
   "execution_count": null,
   "metadata": {
    "collapsed": false
   },
   "outputs": [],
   "source": [
    "model.score(X, y)"
   ]
  },
  {
   "cell_type": "markdown",
   "metadata": {},
   "source": [
    "# weights = 'uniform'"
   ]
  },
  {
   "cell_type": "code",
   "execution_count": null,
   "metadata": {
    "collapsed": false
   },
   "outputs": [],
   "source": [
    "neighbors.KNeighborsClassifier(n_neighbors = 5, weights = 'uniform').fit(X, y).score(X, y)"
   ]
  },
  {
   "cell_type": "markdown",
   "metadata": {},
   "source": [
    "# weights = 'distance'"
   ]
  },
  {
   "cell_type": "code",
   "execution_count": null,
   "metadata": {
    "collapsed": false
   },
   "outputs": [],
   "source": [
    "neighbors.KNeighborsClassifier(n_neighbors = 5, weights = 'distance').fit(X, y).score(X, y)"
   ]
  },
  {
   "cell_type": "markdown",
   "metadata": {},
   "source": [
    "## Part F - What is the best value for `k`?"
   ]
  },
  {
   "cell_type": "code",
   "execution_count": null,
   "metadata": {
    "collapsed": false
   },
   "outputs": [],
   "source": [
    "k = range(1, len(df))\n",
    "\n",
    "score_df = pd.DataFrame({'k': k})\n",
    "\n",
    "models = score_df.\\\n",
    "    apply(lambda row: neighbors.KNeighborsClassifier(n_neighbors = row['k']).fit(X, y), axis = 1)\n",
    "\n",
    "models\n",
    "\n",
    "score_df['Score'] = models.map(lambda model: model.score(X, y))"
   ]
  },
  {
   "cell_type": "code",
   "execution_count": null,
   "metadata": {
    "collapsed": false
   },
   "outputs": [],
   "source": [
    "score_df"
   ]
  },
  {
   "cell_type": "code",
   "execution_count": null,
   "metadata": {
    "collapsed": false
   },
   "outputs": [],
   "source": [
    "plt.plot(score_df.k, score_df.Score)"
   ]
  },
  {
   "cell_type": "markdown",
   "metadata": {},
   "source": [
    "## Part G - Validation"
   ]
  },
  {
   "cell_type": "markdown",
   "metadata": {},
   "source": [
    "60% of the dataset to train the model; the rest to test the model"
   ]
  },
  {
   "cell_type": "code",
   "execution_count": null,
   "metadata": {
    "collapsed": false
   },
   "outputs": [],
   "source": [
    "train_df = df.sample(frac = .6, random_state = 0).sort()"
   ]
  },
  {
   "cell_type": "code",
   "execution_count": null,
   "metadata": {
    "collapsed": false
   },
   "outputs": [],
   "source": [
    "train_df"
   ]
  },
  {
   "cell_type": "code",
   "execution_count": null,
   "metadata": {
    "collapsed": false
   },
   "outputs": [],
   "source": [
    "test_df = df.drop(train_df.index)"
   ]
  },
  {
   "cell_type": "code",
   "execution_count": null,
   "metadata": {
    "collapsed": false
   },
   "outputs": [],
   "source": [
    "test_df"
   ]
  },
  {
   "cell_type": "markdown",
   "metadata": {},
   "source": [
    "The error in the training set is less than the error is the test set"
   ]
  },
  {
   "cell_type": "code",
   "execution_count": null,
   "metadata": {
    "collapsed": false
   },
   "outputs": [],
   "source": [
    "train_X = train_df[ ['SepalLength', 'SepalWidth', 'PetalLength', 'PetalWidth'] ]\n",
    "train_y = train_df.Species\n",
    "\n",
    "model = neighbors.KNeighborsClassifier(n_neighbors = 5, weights = 'uniform')\n",
    "model.fit(train_X, train_y)\n",
    "print 'train = ', model.score(train_X, train_y)\n",
    "\n",
    "test_X = test_df[ ['SepalLength', 'SepalWidth', 'PetalLength', 'PetalWidth'] ]\n",
    "test_y = test_df.Species\n",
    "\n",
    "print 'test  = ', model.score(test_X, test_y)"
   ]
  },
  {
   "cell_type": "code",
   "execution_count": null,
   "metadata": {
    "collapsed": false
   },
   "outputs": [],
   "source": [
    "k = range(1, len(train_df))\n",
    "\n",
    "score_df = pd.DataFrame({'k': k})\n",
    "\n",
    "models = score_df.\\\n",
    "    apply(lambda row: neighbors.KNeighborsClassifier(n_neighbors = row['k']).fit(train_X, train_y), axis = 1)\n",
    "\n",
    "score_df['TrainScore'] = models.apply(lambda model: model.score(train_X, train_y))\n",
    "score_df['TestScore'] = models.apply(lambda model: model.score(test_X, test_y))"
   ]
  },
  {
   "cell_type": "code",
   "execution_count": null,
   "metadata": {
    "collapsed": false
   },
   "outputs": [],
   "source": [
    "score_df"
   ]
  },
  {
   "cell_type": "code",
   "execution_count": null,
   "metadata": {
    "collapsed": false
   },
   "outputs": [],
   "source": [
    "score_df.set_index('k').plot()"
   ]
  },
  {
   "cell_type": "markdown",
   "metadata": {},
   "source": [
    "## Part H - Cross-Validation"
   ]
  },
  {
   "cell_type": "code",
   "execution_count": null,
   "metadata": {
    "collapsed": false
   },
   "outputs": [],
   "source": [
    "len(train_df)"
   ]
  },
  {
   "cell_type": "code",
   "execution_count": null,
   "metadata": {
    "collapsed": false
   },
   "outputs": [],
   "source": [
    "k_cv = 5 # 5-fold CV\n",
    "k_nn = range(1, len(train_df) * (k_cv - 1) / k_cv) # k-NN\n",
    "\n",
    "gs = grid_search.GridSearchCV(\n",
    "    estimator = neighbors.KNeighborsClassifier(),\n",
    "    param_grid = {'n_neighbors': k_nn},\n",
    "    cv = cross_validation.KFold(len(train_df), n_folds = k_cv)\n",
    ")\n",
    "\n",
    "gs.fit(train_X, train_y)\n",
    "\n",
    "score_df = pd.DataFrame({'k': [score.parameters['n_neighbors'] for score in gs.grid_scores_],\n",
    "    'Score': [score.mean_validation_score for score in gs.grid_scores_]})\n",
    "\n",
    "score_df"
   ]
  },
  {
   "cell_type": "code",
   "execution_count": null,
   "metadata": {
    "collapsed": false
   },
   "outputs": [],
   "source": [
    "plt.plot(score_df.k, score_df.Score)"
   ]
  },
  {
   "cell_type": "code",
   "execution_count": null,
   "metadata": {
    "collapsed": false
   },
   "outputs": [],
   "source": [
    "score_df[score_df.Score == score_df.Score.max()]"
   ]
  },
  {
   "cell_type": "code",
   "execution_count": null,
   "metadata": {
    "collapsed": false
   },
   "outputs": [],
   "source": [
    "score_df[score_df.Score == score_df.Score.min()]"
   ]
  },
  {
   "cell_type": "code",
   "execution_count": null,
   "metadata": {
    "collapsed": false
   },
   "outputs": [],
   "source": [
    "gs.score(test_X, test_y)"
   ]
  }
 ],
 "metadata": {
  "kernelspec": {
   "display_name": "Python 2",
   "language": "python",
   "name": "python2"
  },
  "language_info": {
   "codemirror_mode": {
    "name": "ipython",
    "version": 2
   },
   "file_extension": ".py",
   "mimetype": "text/x-python",
   "name": "python",
   "nbconvert_exporter": "python",
   "pygments_lexer": "ipython2",
   "version": "2.7.11"
  }
 },
 "nbformat": 4,
 "nbformat_minor": 0
}
