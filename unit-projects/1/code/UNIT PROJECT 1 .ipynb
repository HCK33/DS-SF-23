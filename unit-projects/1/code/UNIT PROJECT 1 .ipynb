{
 "cells": [
  {
   "cell_type": "markdown",
   "metadata": {},
   "source": [
    "Unit Project #1 "
   ]
  },
  {
   "cell_type": "markdown",
   "metadata": {},
   "source": [
    "Goal: Identify factors that influence acceptance into UCLA graduate programs \n",
    "\n",
    "Data set has four variables: Admission, GRE score, GPA, and Prestige Level \n",
    "Admission: Y or N\n",
    "GRE Score: up to 340 \n",
    "GPA: 0.0 - 4.0 \n",
    "Prestige: 1 - 4 (4= highest prestige) "
   ]
  },
  {
   "cell_type": "markdown",
   "metadata": {},
   "source": [
    "1) What is the outcome? "
   ]
  },
  {
   "cell_type": "markdown",
   "metadata": {},
   "source": [
    "Determines whether student is admitted or denied "
   ]
  },
  {
   "cell_type": "markdown",
   "metadata": {},
   "source": [
    "2) What are the predictors/ covariates? "
   ]
  },
  {
   "cell_type": "markdown",
   "metadata": {},
   "source": [
    "1)admit binary 2) GRE score 3) GPA 4) Prestige level "
   ]
  },
  {
   "cell_type": "markdown",
   "metadata": {},
   "source": [
    "3) What is the time frame for this data? "
   ]
  },
  {
   "cell_type": "markdown",
   "metadata": {},
   "source": [
    "span of admissions process. 6 months? "
   ]
  },
  {
   "cell_type": "markdown",
   "metadata": {},
   "source": [
    "4) What is the hypothesis? "
   ]
  },
  {
   "cell_type": "markdown",
   "metadata": {},
   "source": [
    "Students with the highest combination of variables will be more likey to receive admission to UCLA. "
   ]
  }
 ],
 "metadata": {
  "kernelspec": {
   "display_name": "Python 2",
   "language": "python",
   "name": "python2"
  },
  "language_info": {
   "codemirror_mode": {
    "name": "ipython",
    "version": 2
   },
   "file_extension": ".py",
   "mimetype": "text/x-python",
   "name": "python",
   "nbconvert_exporter": "python",
   "pygments_lexer": "ipython2",
   "version": "2.7.11"
  }
 },
 "nbformat": 4,
 "nbformat_minor": 0
}
