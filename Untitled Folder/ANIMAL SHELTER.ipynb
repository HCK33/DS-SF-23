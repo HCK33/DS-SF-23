{
 "cells": [
  {
   "cell_type": "code",
   "execution_count": 2,
   "metadata": {
    "collapsed": true
   },
   "outputs": [],
   "source": [
    "import os\n",
    "import numpy as np\n",
    "import pandas as pd\n",
    "\n",
    "import matplotlib.pyplot as plt\n",
    "%matplotlib inline"
   ]
  },
  {
   "cell_type": "code",
   "execution_count": 3,
   "metadata": {
    "collapsed": false
   },
   "outputs": [],
   "source": [
    "df = pd.read_csv('train.csv.gz', index_col = 'AnimalID')"
   ]
  },
  {
   "cell_type": "code",
   "execution_count": 4,
   "metadata": {
    "collapsed": false
   },
   "outputs": [
    {
     "data": {
      "text/html": [
       "<div>\n",
       "<table border=\"1\" class=\"dataframe\">\n",
       "  <thead>\n",
       "    <tr style=\"text-align: right;\">\n",
       "      <th></th>\n",
       "      <th>Name</th>\n",
       "      <th>DateTime</th>\n",
       "      <th>OutcomeType</th>\n",
       "      <th>OutcomeSubtype</th>\n",
       "      <th>AnimalType</th>\n",
       "      <th>SexuponOutcome</th>\n",
       "      <th>AgeuponOutcome</th>\n",
       "      <th>Breed</th>\n",
       "      <th>Color</th>\n",
       "    </tr>\n",
       "    <tr>\n",
       "      <th>AnimalID</th>\n",
       "      <th></th>\n",
       "      <th></th>\n",
       "      <th></th>\n",
       "      <th></th>\n",
       "      <th></th>\n",
       "      <th></th>\n",
       "      <th></th>\n",
       "      <th></th>\n",
       "      <th></th>\n",
       "    </tr>\n",
       "  </thead>\n",
       "  <tbody>\n",
       "    <tr>\n",
       "      <th>A671945</th>\n",
       "      <td>Hambone</td>\n",
       "      <td>2014-02-12 18:22:00</td>\n",
       "      <td>Return_to_owner</td>\n",
       "      <td>NaN</td>\n",
       "      <td>Dog</td>\n",
       "      <td>Neutered Male</td>\n",
       "      <td>1 year</td>\n",
       "      <td>Shetland Sheepdog Mix</td>\n",
       "      <td>Brown/White</td>\n",
       "    </tr>\n",
       "    <tr>\n",
       "      <th>A656520</th>\n",
       "      <td>Emily</td>\n",
       "      <td>2013-10-13 12:44:00</td>\n",
       "      <td>Euthanasia</td>\n",
       "      <td>Suffering</td>\n",
       "      <td>Cat</td>\n",
       "      <td>Spayed Female</td>\n",
       "      <td>1 year</td>\n",
       "      <td>Domestic Shorthair Mix</td>\n",
       "      <td>Cream Tabby</td>\n",
       "    </tr>\n",
       "    <tr>\n",
       "      <th>A686464</th>\n",
       "      <td>Pearce</td>\n",
       "      <td>2015-01-31 12:28:00</td>\n",
       "      <td>Adoption</td>\n",
       "      <td>Foster</td>\n",
       "      <td>Dog</td>\n",
       "      <td>Neutered Male</td>\n",
       "      <td>2 years</td>\n",
       "      <td>Pit Bull Mix</td>\n",
       "      <td>Blue/White</td>\n",
       "    </tr>\n",
       "    <tr>\n",
       "      <th>A683430</th>\n",
       "      <td>NaN</td>\n",
       "      <td>2014-07-11 19:09:00</td>\n",
       "      <td>Transfer</td>\n",
       "      <td>Partner</td>\n",
       "      <td>Cat</td>\n",
       "      <td>Intact Male</td>\n",
       "      <td>3 weeks</td>\n",
       "      <td>Domestic Shorthair Mix</td>\n",
       "      <td>Blue Cream</td>\n",
       "    </tr>\n",
       "    <tr>\n",
       "      <th>A667013</th>\n",
       "      <td>NaN</td>\n",
       "      <td>2013-11-15 12:52:00</td>\n",
       "      <td>Transfer</td>\n",
       "      <td>Partner</td>\n",
       "      <td>Dog</td>\n",
       "      <td>Neutered Male</td>\n",
       "      <td>2 years</td>\n",
       "      <td>Lhasa Apso/Miniature Poodle</td>\n",
       "      <td>Tan</td>\n",
       "    </tr>\n",
       "    <tr>\n",
       "      <th>A677334</th>\n",
       "      <td>Elsa</td>\n",
       "      <td>2014-04-25 13:04:00</td>\n",
       "      <td>Transfer</td>\n",
       "      <td>Partner</td>\n",
       "      <td>Dog</td>\n",
       "      <td>Intact Female</td>\n",
       "      <td>1 month</td>\n",
       "      <td>Cairn Terrier/Chihuahua Shorthair</td>\n",
       "      <td>Black/Tan</td>\n",
       "    </tr>\n",
       "    <tr>\n",
       "      <th>A699218</th>\n",
       "      <td>Jimmy</td>\n",
       "      <td>2015-03-28 13:11:00</td>\n",
       "      <td>Transfer</td>\n",
       "      <td>Partner</td>\n",
       "      <td>Cat</td>\n",
       "      <td>Intact Male</td>\n",
       "      <td>3 weeks</td>\n",
       "      <td>Domestic Shorthair Mix</td>\n",
       "      <td>Blue Tabby</td>\n",
       "    </tr>\n",
       "    <tr>\n",
       "      <th>A701489</th>\n",
       "      <td>NaN</td>\n",
       "      <td>2015-04-30 17:02:00</td>\n",
       "      <td>Transfer</td>\n",
       "      <td>Partner</td>\n",
       "      <td>Cat</td>\n",
       "      <td>Unknown</td>\n",
       "      <td>3 weeks</td>\n",
       "      <td>Domestic Shorthair Mix</td>\n",
       "      <td>Brown Tabby</td>\n",
       "    </tr>\n",
       "    <tr>\n",
       "      <th>A671784</th>\n",
       "      <td>Lucy</td>\n",
       "      <td>2014-02-04 17:17:00</td>\n",
       "      <td>Adoption</td>\n",
       "      <td>NaN</td>\n",
       "      <td>Dog</td>\n",
       "      <td>Spayed Female</td>\n",
       "      <td>5 months</td>\n",
       "      <td>American Pit Bull Terrier Mix</td>\n",
       "      <td>Red/White</td>\n",
       "    </tr>\n",
       "    <tr>\n",
       "      <th>A677747</th>\n",
       "      <td>NaN</td>\n",
       "      <td>2014-05-03 07:48:00</td>\n",
       "      <td>Adoption</td>\n",
       "      <td>Offsite</td>\n",
       "      <td>Dog</td>\n",
       "      <td>Spayed Female</td>\n",
       "      <td>1 year</td>\n",
       "      <td>Cairn Terrier</td>\n",
       "      <td>White</td>\n",
       "    </tr>\n",
       "    <tr>\n",
       "      <th>A668402</th>\n",
       "      <td>NaN</td>\n",
       "      <td>2013-12-05 15:50:00</td>\n",
       "      <td>Transfer</td>\n",
       "      <td>SCRP</td>\n",
       "      <td>Cat</td>\n",
       "      <td>Unknown</td>\n",
       "      <td>2 years</td>\n",
       "      <td>Domestic Shorthair Mix</td>\n",
       "      <td>Black</td>\n",
       "    </tr>\n",
       "    <tr>\n",
       "      <th>A666320</th>\n",
       "      <td>NaN</td>\n",
       "      <td>2013-11-04 14:48:00</td>\n",
       "      <td>Adoption</td>\n",
       "      <td>NaN</td>\n",
       "      <td>Dog</td>\n",
       "      <td>Spayed Female</td>\n",
       "      <td>2 years</td>\n",
       "      <td>Miniature Schnauzer Mix</td>\n",
       "      <td>Silver</td>\n",
       "    </tr>\n",
       "    <tr>\n",
       "      <th>A684601</th>\n",
       "      <td>Rocket</td>\n",
       "      <td>2016-02-03 11:27:00</td>\n",
       "      <td>Adoption</td>\n",
       "      <td>Foster</td>\n",
       "      <td>Dog</td>\n",
       "      <td>Neutered Male</td>\n",
       "      <td>4 years</td>\n",
       "      <td>Pit Bull Mix</td>\n",
       "      <td>Brown</td>\n",
       "    </tr>\n",
       "    <tr>\n",
       "      <th>A704702</th>\n",
       "      <td>Scooter</td>\n",
       "      <td>2015-06-08 16:30:00</td>\n",
       "      <td>Return_to_owner</td>\n",
       "      <td>NaN</td>\n",
       "      <td>Dog</td>\n",
       "      <td>Neutered Male</td>\n",
       "      <td>2 years</td>\n",
       "      <td>Yorkshire Terrier Mix</td>\n",
       "      <td>Black/Red</td>\n",
       "    </tr>\n",
       "    <tr>\n",
       "      <th>A688584</th>\n",
       "      <td>Preston</td>\n",
       "      <td>2015-11-25 15:00:00</td>\n",
       "      <td>Return_to_owner</td>\n",
       "      <td>NaN</td>\n",
       "      <td>Dog</td>\n",
       "      <td>Neutered Male</td>\n",
       "      <td>1 year</td>\n",
       "      <td>Great Pyrenees Mix</td>\n",
       "      <td>White/Cream</td>\n",
       "    </tr>\n",
       "    <tr>\n",
       "      <th>A678825</th>\n",
       "      <td>Oliver</td>\n",
       "      <td>2014-07-12 12:10:00</td>\n",
       "      <td>Adoption</td>\n",
       "      <td>Foster</td>\n",
       "      <td>Cat</td>\n",
       "      <td>Neutered Male</td>\n",
       "      <td>3 months</td>\n",
       "      <td>Domestic Shorthair Mix</td>\n",
       "      <td>Orange Tabby/White</td>\n",
       "    </tr>\n",
       "    <tr>\n",
       "      <th>A678050</th>\n",
       "      <td>NaN</td>\n",
       "      <td>2014-05-03 16:15:00</td>\n",
       "      <td>Transfer</td>\n",
       "      <td>Partner</td>\n",
       "      <td>Cat</td>\n",
       "      <td>Intact Male</td>\n",
       "      <td>3 weeks</td>\n",
       "      <td>Domestic Shorthair Mix</td>\n",
       "      <td>Brown Tabby</td>\n",
       "    </tr>\n",
       "    <tr>\n",
       "      <th>A680028</th>\n",
       "      <td>NaN</td>\n",
       "      <td>2014-06-07 12:54:00</td>\n",
       "      <td>Transfer</td>\n",
       "      <td>Partner</td>\n",
       "      <td>Dog</td>\n",
       "      <td>Intact Female</td>\n",
       "      <td>2 weeks</td>\n",
       "      <td>Pit Bull Mix</td>\n",
       "      <td>Brown/White</td>\n",
       "    </tr>\n",
       "    <tr>\n",
       "      <th>A679010</th>\n",
       "      <td>Chrissy</td>\n",
       "      <td>2014-05-17 11:32:00</td>\n",
       "      <td>Transfer</td>\n",
       "      <td>Partner</td>\n",
       "      <td>Cat</td>\n",
       "      <td>Intact Female</td>\n",
       "      <td>2 years</td>\n",
       "      <td>Angora Mix</td>\n",
       "      <td>White</td>\n",
       "    </tr>\n",
       "    <tr>\n",
       "      <th>A684787</th>\n",
       "      <td>Kuma</td>\n",
       "      <td>2014-07-30 17:34:00</td>\n",
       "      <td>Return_to_owner</td>\n",
       "      <td>NaN</td>\n",
       "      <td>Dog</td>\n",
       "      <td>Neutered Male</td>\n",
       "      <td>1 year</td>\n",
       "      <td>Flat Coat Retriever Mix</td>\n",
       "      <td>Black</td>\n",
       "    </tr>\n",
       "    <tr>\n",
       "      <th>A670658</th>\n",
       "      <td>Anders</td>\n",
       "      <td>2014-01-19 15:03:00</td>\n",
       "      <td>Transfer</td>\n",
       "      <td>Partner</td>\n",
       "      <td>Dog</td>\n",
       "      <td>Intact Male</td>\n",
       "      <td>2 months</td>\n",
       "      <td>Queensland Heeler Mix</td>\n",
       "      <td>Black/White</td>\n",
       "    </tr>\n",
       "    <tr>\n",
       "      <th>A708812</th>\n",
       "      <td>Munchkin</td>\n",
       "      <td>2015-09-18 15:19:00</td>\n",
       "      <td>Transfer</td>\n",
       "      <td>Partner</td>\n",
       "      <td>Cat</td>\n",
       "      <td>Spayed Female</td>\n",
       "      <td>1 year</td>\n",
       "      <td>Domestic Shorthair Mix</td>\n",
       "      <td>White</td>\n",
       "    </tr>\n",
       "    <tr>\n",
       "      <th>A705262</th>\n",
       "      <td>Jamaica</td>\n",
       "      <td>2015-08-15 14:22:00</td>\n",
       "      <td>Adoption</td>\n",
       "      <td>NaN</td>\n",
       "      <td>Dog</td>\n",
       "      <td>Spayed Female</td>\n",
       "      <td>2 years</td>\n",
       "      <td>Plott Hound/Boxer</td>\n",
       "      <td>Brown Brindle/White</td>\n",
       "    </tr>\n",
       "    <tr>\n",
       "      <th>A665781</th>\n",
       "      <td>Quattro</td>\n",
       "      <td>2013-10-28 16:32:00</td>\n",
       "      <td>Adoption</td>\n",
       "      <td>NaN</td>\n",
       "      <td>Dog</td>\n",
       "      <td>Neutered Male</td>\n",
       "      <td>10 months</td>\n",
       "      <td>German Shepherd Mix</td>\n",
       "      <td>Brown/White</td>\n",
       "    </tr>\n",
       "    <tr>\n",
       "      <th>A676333</th>\n",
       "      <td>Trigger</td>\n",
       "      <td>2014-04-09 17:44:00</td>\n",
       "      <td>Return_to_owner</td>\n",
       "      <td>NaN</td>\n",
       "      <td>Dog</td>\n",
       "      <td>Neutered Male</td>\n",
       "      <td>2 months</td>\n",
       "      <td>German Shepherd Mix</td>\n",
       "      <td>Black/Brown</td>\n",
       "    </tr>\n",
       "    <tr>\n",
       "      <th>A712750</th>\n",
       "      <td>Olive</td>\n",
       "      <td>2015-10-03 15:44:00</td>\n",
       "      <td>Transfer</td>\n",
       "      <td>Partner</td>\n",
       "      <td>Cat</td>\n",
       "      <td>Intact Female</td>\n",
       "      <td>1 month</td>\n",
       "      <td>Domestic Shorthair Mix</td>\n",
       "      <td>Orange Tabby</td>\n",
       "    </tr>\n",
       "    <tr>\n",
       "      <th>A718832</th>\n",
       "      <td>Nia</td>\n",
       "      <td>2016-01-15 17:31:00</td>\n",
       "      <td>Adoption</td>\n",
       "      <td>NaN</td>\n",
       "      <td>Dog</td>\n",
       "      <td>Spayed Female</td>\n",
       "      <td>6 months</td>\n",
       "      <td>American Staffordshire Terrier Mix</td>\n",
       "      <td>Chocolate/White</td>\n",
       "    </tr>\n",
       "    <tr>\n",
       "      <th>A698777</th>\n",
       "      <td>Chloe</td>\n",
       "      <td>2015-03-25 18:50:00</td>\n",
       "      <td>Adoption</td>\n",
       "      <td>NaN</td>\n",
       "      <td>Dog</td>\n",
       "      <td>Spayed Female</td>\n",
       "      <td>5 years</td>\n",
       "      <td>Chihuahua Shorthair Mix</td>\n",
       "      <td>White/Tan</td>\n",
       "    </tr>\n",
       "    <tr>\n",
       "      <th>A715348</th>\n",
       "      <td>Cymbale</td>\n",
       "      <td>2015-11-21 13:01:00</td>\n",
       "      <td>Adoption</td>\n",
       "      <td>NaN</td>\n",
       "      <td>Cat</td>\n",
       "      <td>Spayed Female</td>\n",
       "      <td>2 months</td>\n",
       "      <td>Domestic Shorthair Mix</td>\n",
       "      <td>Cream Tabby/White</td>\n",
       "    </tr>\n",
       "    <tr>\n",
       "      <th>A708666</th>\n",
       "      <td>Jax</td>\n",
       "      <td>2015-07-30 14:30:00</td>\n",
       "      <td>Return_to_owner</td>\n",
       "      <td>NaN</td>\n",
       "      <td>Cat</td>\n",
       "      <td>Neutered Male</td>\n",
       "      <td>7 years</td>\n",
       "      <td>Russian Blue Mix</td>\n",
       "      <td>Blue</td>\n",
       "    </tr>\n",
       "    <tr>\n",
       "      <th>...</th>\n",
       "      <td>...</td>\n",
       "      <td>...</td>\n",
       "      <td>...</td>\n",
       "      <td>...</td>\n",
       "      <td>...</td>\n",
       "      <td>...</td>\n",
       "      <td>...</td>\n",
       "      <td>...</td>\n",
       "      <td>...</td>\n",
       "    </tr>\n",
       "    <tr>\n",
       "      <th>A676460</th>\n",
       "      <td>Mario</td>\n",
       "      <td>2014-04-21 14:01:00</td>\n",
       "      <td>Euthanasia</td>\n",
       "      <td>Behavior</td>\n",
       "      <td>Dog</td>\n",
       "      <td>Neutered Male</td>\n",
       "      <td>2 years</td>\n",
       "      <td>American Pit Bull Terrier Mix</td>\n",
       "      <td>White/Black</td>\n",
       "    </tr>\n",
       "    <tr>\n",
       "      <th>A704999</th>\n",
       "      <td>Lion</td>\n",
       "      <td>2015-06-15 19:28:00</td>\n",
       "      <td>Return_to_owner</td>\n",
       "      <td>NaN</td>\n",
       "      <td>Dog</td>\n",
       "      <td>Intact Male</td>\n",
       "      <td>10 months</td>\n",
       "      <td>Great Pyrenees/Anatol Shepherd</td>\n",
       "      <td>Tan/Cream</td>\n",
       "    </tr>\n",
       "    <tr>\n",
       "      <th>A678842</th>\n",
       "      <td>Ella</td>\n",
       "      <td>2014-06-15 17:41:00</td>\n",
       "      <td>Transfer</td>\n",
       "      <td>Partner</td>\n",
       "      <td>Dog</td>\n",
       "      <td>Intact Female</td>\n",
       "      <td>11 months</td>\n",
       "      <td>Jack Russell Terrier Mix</td>\n",
       "      <td>White/Black</td>\n",
       "    </tr>\n",
       "    <tr>\n",
       "      <th>A713637</th>\n",
       "      <td>NaN</td>\n",
       "      <td>2015-10-11 09:42:00</td>\n",
       "      <td>Died</td>\n",
       "      <td>In Kennel</td>\n",
       "      <td>Cat</td>\n",
       "      <td>Spayed Female</td>\n",
       "      <td>2 years</td>\n",
       "      <td>Siamese Mix</td>\n",
       "      <td>Lynx Point</td>\n",
       "    </tr>\n",
       "    <tr>\n",
       "      <th>A716670</th>\n",
       "      <td>Mowmow</td>\n",
       "      <td>2015-12-04 12:22:00</td>\n",
       "      <td>Transfer</td>\n",
       "      <td>Partner</td>\n",
       "      <td>Cat</td>\n",
       "      <td>Neutered Male</td>\n",
       "      <td>6 years</td>\n",
       "      <td>Domestic Longhair Mix</td>\n",
       "      <td>Seal Point</td>\n",
       "    </tr>\n",
       "    <tr>\n",
       "      <th>A716223</th>\n",
       "      <td>Alice</td>\n",
       "      <td>2015-11-17 17:17:00</td>\n",
       "      <td>Transfer</td>\n",
       "      <td>Partner</td>\n",
       "      <td>Cat</td>\n",
       "      <td>Intact Female</td>\n",
       "      <td>4 weeks</td>\n",
       "      <td>Domestic Shorthair Mix</td>\n",
       "      <td>White/Black</td>\n",
       "    </tr>\n",
       "    <tr>\n",
       "      <th>A662498</th>\n",
       "      <td>Grace</td>\n",
       "      <td>2013-10-19 15:34:00</td>\n",
       "      <td>Transfer</td>\n",
       "      <td>Partner</td>\n",
       "      <td>Cat</td>\n",
       "      <td>Intact Female</td>\n",
       "      <td>2 months</td>\n",
       "      <td>Domestic Shorthair Mix</td>\n",
       "      <td>Tortie</td>\n",
       "    </tr>\n",
       "    <tr>\n",
       "      <th>A689942</th>\n",
       "      <td>Zoey</td>\n",
       "      <td>2014-10-19 13:29:00</td>\n",
       "      <td>Adoption</td>\n",
       "      <td>NaN</td>\n",
       "      <td>Cat</td>\n",
       "      <td>Spayed Female</td>\n",
       "      <td>2 months</td>\n",
       "      <td>Domestic Shorthair Mix</td>\n",
       "      <td>Black</td>\n",
       "    </tr>\n",
       "    <tr>\n",
       "      <th>A682690</th>\n",
       "      <td>NaN</td>\n",
       "      <td>2014-07-01 17:06:00</td>\n",
       "      <td>Euthanasia</td>\n",
       "      <td>Suffering</td>\n",
       "      <td>Cat</td>\n",
       "      <td>Unknown</td>\n",
       "      <td>1 year</td>\n",
       "      <td>Domestic Shorthair Mix</td>\n",
       "      <td>Brown Tabby</td>\n",
       "    </tr>\n",
       "    <tr>\n",
       "      <th>A666920</th>\n",
       "      <td>Herbie</td>\n",
       "      <td>2013-11-13 17:32:00</td>\n",
       "      <td>Transfer</td>\n",
       "      <td>Partner</td>\n",
       "      <td>Dog</td>\n",
       "      <td>Neutered Male</td>\n",
       "      <td>2 years</td>\n",
       "      <td>Chihuahua Shorthair Mix</td>\n",
       "      <td>White/Brown</td>\n",
       "    </tr>\n",
       "    <tr>\n",
       "      <th>A714386</th>\n",
       "      <td>NaN</td>\n",
       "      <td>2015-10-24 00:00:00</td>\n",
       "      <td>Adoption</td>\n",
       "      <td>NaN</td>\n",
       "      <td>Dog</td>\n",
       "      <td>Spayed Female</td>\n",
       "      <td>1 month</td>\n",
       "      <td>Chihuahua Shorthair Mix</td>\n",
       "      <td>Sable/Buff</td>\n",
       "    </tr>\n",
       "    <tr>\n",
       "      <th>A692622</th>\n",
       "      <td>Bonnie</td>\n",
       "      <td>2014-11-24 17:21:00</td>\n",
       "      <td>Transfer</td>\n",
       "      <td>Partner</td>\n",
       "      <td>Dog</td>\n",
       "      <td>Intact Female</td>\n",
       "      <td>1 month</td>\n",
       "      <td>Chihuahua Shorthair/Yorkshire Terrier</td>\n",
       "      <td>Brown/Black</td>\n",
       "    </tr>\n",
       "    <tr>\n",
       "      <th>A666284</th>\n",
       "      <td>Sonja</td>\n",
       "      <td>2013-10-30 18:32:00</td>\n",
       "      <td>Transfer</td>\n",
       "      <td>Partner</td>\n",
       "      <td>Dog</td>\n",
       "      <td>Intact Female</td>\n",
       "      <td>1 year</td>\n",
       "      <td>Cocker Spaniel/Dachshund</td>\n",
       "      <td>Buff</td>\n",
       "    </tr>\n",
       "    <tr>\n",
       "      <th>A535277</th>\n",
       "      <td>Merlin</td>\n",
       "      <td>2015-04-20 16:04:00</td>\n",
       "      <td>Return_to_owner</td>\n",
       "      <td>NaN</td>\n",
       "      <td>Dog</td>\n",
       "      <td>Neutered Male</td>\n",
       "      <td>12 years</td>\n",
       "      <td>Rat Terrier</td>\n",
       "      <td>Chocolate/Tan</td>\n",
       "    </tr>\n",
       "    <tr>\n",
       "      <th>A671169</th>\n",
       "      <td>NaN</td>\n",
       "      <td>2014-01-20 17:37:00</td>\n",
       "      <td>Euthanasia</td>\n",
       "      <td>Suffering</td>\n",
       "      <td>Cat</td>\n",
       "      <td>Intact Female</td>\n",
       "      <td>18 years</td>\n",
       "      <td>Domestic Longhair Mix</td>\n",
       "      <td>Tortie</td>\n",
       "    </tr>\n",
       "    <tr>\n",
       "      <th>A679031</th>\n",
       "      <td>Pete</td>\n",
       "      <td>2014-05-31 16:11:00</td>\n",
       "      <td>Adoption</td>\n",
       "      <td>NaN</td>\n",
       "      <td>Cat</td>\n",
       "      <td>Spayed Female</td>\n",
       "      <td>2 months</td>\n",
       "      <td>Domestic Shorthair Mix</td>\n",
       "      <td>Orange Tabby</td>\n",
       "    </tr>\n",
       "    <tr>\n",
       "      <th>A708833</th>\n",
       "      <td>Luna</td>\n",
       "      <td>2015-08-05 17:03:00</td>\n",
       "      <td>Adoption</td>\n",
       "      <td>NaN</td>\n",
       "      <td>Dog</td>\n",
       "      <td>Spayed Female</td>\n",
       "      <td>2 months</td>\n",
       "      <td>Pointer Mix</td>\n",
       "      <td>Black/White</td>\n",
       "    </tr>\n",
       "    <tr>\n",
       "      <th>A697158</th>\n",
       "      <td>Max</td>\n",
       "      <td>2015-05-02 21:04:00</td>\n",
       "      <td>Adoption</td>\n",
       "      <td>Offsite</td>\n",
       "      <td>Dog</td>\n",
       "      <td>Neutered Male</td>\n",
       "      <td>2 months</td>\n",
       "      <td>Newfoundland Mix</td>\n",
       "      <td>White/Black</td>\n",
       "    </tr>\n",
       "    <tr>\n",
       "      <th>A519949</th>\n",
       "      <td>Bella</td>\n",
       "      <td>2014-06-30 17:34:00</td>\n",
       "      <td>Return_to_owner</td>\n",
       "      <td>NaN</td>\n",
       "      <td>Dog</td>\n",
       "      <td>Spayed Female</td>\n",
       "      <td>9 years</td>\n",
       "      <td>Bullmastiff Mix</td>\n",
       "      <td>Black</td>\n",
       "    </tr>\n",
       "    <tr>\n",
       "      <th>A701044</th>\n",
       "      <td>NaN</td>\n",
       "      <td>2015-04-28 14:26:00</td>\n",
       "      <td>Adoption</td>\n",
       "      <td>NaN</td>\n",
       "      <td>Dog</td>\n",
       "      <td>Neutered Male</td>\n",
       "      <td>2 months</td>\n",
       "      <td>Siberian Husky/German Shepherd</td>\n",
       "      <td>Black/Tricolor</td>\n",
       "    </tr>\n",
       "    <tr>\n",
       "      <th>A707871</th>\n",
       "      <td>NaN</td>\n",
       "      <td>2015-07-20 09:00:00</td>\n",
       "      <td>Transfer</td>\n",
       "      <td>SCRP</td>\n",
       "      <td>Cat</td>\n",
       "      <td>Unknown</td>\n",
       "      <td>2 years</td>\n",
       "      <td>Domestic Shorthair Mix</td>\n",
       "      <td>Brown Tabby/White</td>\n",
       "    </tr>\n",
       "    <tr>\n",
       "      <th>A704405</th>\n",
       "      <td>Brownie</td>\n",
       "      <td>2015-07-18 14:08:00</td>\n",
       "      <td>Adoption</td>\n",
       "      <td>NaN</td>\n",
       "      <td>Cat</td>\n",
       "      <td>Spayed Female</td>\n",
       "      <td>2 months</td>\n",
       "      <td>Domestic Shorthair Mix</td>\n",
       "      <td>Brown Tabby</td>\n",
       "    </tr>\n",
       "    <tr>\n",
       "      <th>A662019</th>\n",
       "      <td>Green Bean</td>\n",
       "      <td>2014-07-17 09:43:00</td>\n",
       "      <td>Adoption</td>\n",
       "      <td>Foster</td>\n",
       "      <td>Cat</td>\n",
       "      <td>Spayed Female</td>\n",
       "      <td>5 years</td>\n",
       "      <td>Domestic Shorthair Mix</td>\n",
       "      <td>Black</td>\n",
       "    </tr>\n",
       "    <tr>\n",
       "      <th>A687056</th>\n",
       "      <td>NaN</td>\n",
       "      <td>2014-08-31 09:00:00</td>\n",
       "      <td>Transfer</td>\n",
       "      <td>SCRP</td>\n",
       "      <td>Cat</td>\n",
       "      <td>Intact Male</td>\n",
       "      <td>5 months</td>\n",
       "      <td>Domestic Shorthair Mix</td>\n",
       "      <td>Orange Tabby</td>\n",
       "    </tr>\n",
       "    <tr>\n",
       "      <th>A716997</th>\n",
       "      <td>Zeus</td>\n",
       "      <td>2016-01-29 18:52:00</td>\n",
       "      <td>Adoption</td>\n",
       "      <td>NaN</td>\n",
       "      <td>Dog</td>\n",
       "      <td>Neutered Male</td>\n",
       "      <td>6 years</td>\n",
       "      <td>Staffordshire Mix</td>\n",
       "      <td>Blue/White</td>\n",
       "    </tr>\n",
       "    <tr>\n",
       "      <th>A702446</th>\n",
       "      <td>NaN</td>\n",
       "      <td>2015-05-14 11:56:00</td>\n",
       "      <td>Transfer</td>\n",
       "      <td>Partner</td>\n",
       "      <td>Cat</td>\n",
       "      <td>Intact Male</td>\n",
       "      <td>1 month</td>\n",
       "      <td>Domestic Shorthair Mix</td>\n",
       "      <td>Brown Tabby/White</td>\n",
       "    </tr>\n",
       "    <tr>\n",
       "      <th>A718934</th>\n",
       "      <td>NaN</td>\n",
       "      <td>2016-01-20 18:59:00</td>\n",
       "      <td>Transfer</td>\n",
       "      <td>SCRP</td>\n",
       "      <td>Cat</td>\n",
       "      <td>Spayed Female</td>\n",
       "      <td>3 months</td>\n",
       "      <td>Domestic Shorthair Mix</td>\n",
       "      <td>Brown Tabby</td>\n",
       "    </tr>\n",
       "    <tr>\n",
       "      <th>A698128</th>\n",
       "      <td>Zeus</td>\n",
       "      <td>2015-03-09 13:33:00</td>\n",
       "      <td>Adoption</td>\n",
       "      <td>NaN</td>\n",
       "      <td>Dog</td>\n",
       "      <td>Neutered Male</td>\n",
       "      <td>4 years</td>\n",
       "      <td>Old English Bulldog Mix</td>\n",
       "      <td>White/Tan</td>\n",
       "    </tr>\n",
       "    <tr>\n",
       "      <th>A677478</th>\n",
       "      <td>NaN</td>\n",
       "      <td>2014-04-27 12:22:00</td>\n",
       "      <td>Transfer</td>\n",
       "      <td>Partner</td>\n",
       "      <td>Cat</td>\n",
       "      <td>Intact Male</td>\n",
       "      <td>4 weeks</td>\n",
       "      <td>Domestic Shorthair Mix</td>\n",
       "      <td>Black</td>\n",
       "    </tr>\n",
       "    <tr>\n",
       "      <th>A706629</th>\n",
       "      <td>NaN</td>\n",
       "      <td>2015-07-02 09:00:00</td>\n",
       "      <td>Transfer</td>\n",
       "      <td>SCRP</td>\n",
       "      <td>Cat</td>\n",
       "      <td>Intact Male</td>\n",
       "      <td>1 year</td>\n",
       "      <td>Domestic Shorthair Mix</td>\n",
       "      <td>Brown Tabby/White</td>\n",
       "    </tr>\n",
       "  </tbody>\n",
       "</table>\n",
       "<p>26729 rows × 9 columns</p>\n",
       "</div>"
      ],
      "text/plain": [
       "                Name             DateTime      OutcomeType OutcomeSubtype  \\\n",
       "AnimalID                                                                    \n",
       "A671945      Hambone  2014-02-12 18:22:00  Return_to_owner            NaN   \n",
       "A656520        Emily  2013-10-13 12:44:00       Euthanasia      Suffering   \n",
       "A686464       Pearce  2015-01-31 12:28:00         Adoption         Foster   \n",
       "A683430          NaN  2014-07-11 19:09:00         Transfer        Partner   \n",
       "A667013          NaN  2013-11-15 12:52:00         Transfer        Partner   \n",
       "A677334         Elsa  2014-04-25 13:04:00         Transfer        Partner   \n",
       "A699218        Jimmy  2015-03-28 13:11:00         Transfer        Partner   \n",
       "A701489          NaN  2015-04-30 17:02:00         Transfer        Partner   \n",
       "A671784         Lucy  2014-02-04 17:17:00         Adoption            NaN   \n",
       "A677747          NaN  2014-05-03 07:48:00         Adoption        Offsite   \n",
       "A668402          NaN  2013-12-05 15:50:00         Transfer           SCRP   \n",
       "A666320          NaN  2013-11-04 14:48:00         Adoption            NaN   \n",
       "A684601       Rocket  2016-02-03 11:27:00         Adoption         Foster   \n",
       "A704702      Scooter  2015-06-08 16:30:00  Return_to_owner            NaN   \n",
       "A688584      Preston  2015-11-25 15:00:00  Return_to_owner            NaN   \n",
       "A678825       Oliver  2014-07-12 12:10:00         Adoption         Foster   \n",
       "A678050          NaN  2014-05-03 16:15:00         Transfer        Partner   \n",
       "A680028          NaN  2014-06-07 12:54:00         Transfer        Partner   \n",
       "A679010      Chrissy  2014-05-17 11:32:00         Transfer        Partner   \n",
       "A684787         Kuma  2014-07-30 17:34:00  Return_to_owner            NaN   \n",
       "A670658       Anders  2014-01-19 15:03:00         Transfer        Partner   \n",
       "A708812     Munchkin  2015-09-18 15:19:00         Transfer        Partner   \n",
       "A705262      Jamaica  2015-08-15 14:22:00         Adoption            NaN   \n",
       "A665781      Quattro  2013-10-28 16:32:00         Adoption            NaN   \n",
       "A676333      Trigger  2014-04-09 17:44:00  Return_to_owner            NaN   \n",
       "A712750        Olive  2015-10-03 15:44:00         Transfer        Partner   \n",
       "A718832          Nia  2016-01-15 17:31:00         Adoption            NaN   \n",
       "A698777        Chloe  2015-03-25 18:50:00         Adoption            NaN   \n",
       "A715348      Cymbale  2015-11-21 13:01:00         Adoption            NaN   \n",
       "A708666          Jax  2015-07-30 14:30:00  Return_to_owner            NaN   \n",
       "...              ...                  ...              ...            ...   \n",
       "A676460        Mario  2014-04-21 14:01:00       Euthanasia       Behavior   \n",
       "A704999         Lion  2015-06-15 19:28:00  Return_to_owner            NaN   \n",
       "A678842         Ella  2014-06-15 17:41:00         Transfer        Partner   \n",
       "A713637          NaN  2015-10-11 09:42:00             Died      In Kennel   \n",
       "A716670       Mowmow  2015-12-04 12:22:00         Transfer        Partner   \n",
       "A716223        Alice  2015-11-17 17:17:00         Transfer        Partner   \n",
       "A662498        Grace  2013-10-19 15:34:00         Transfer        Partner   \n",
       "A689942         Zoey  2014-10-19 13:29:00         Adoption            NaN   \n",
       "A682690          NaN  2014-07-01 17:06:00       Euthanasia      Suffering   \n",
       "A666920       Herbie  2013-11-13 17:32:00         Transfer        Partner   \n",
       "A714386          NaN  2015-10-24 00:00:00         Adoption            NaN   \n",
       "A692622       Bonnie  2014-11-24 17:21:00         Transfer        Partner   \n",
       "A666284        Sonja  2013-10-30 18:32:00         Transfer        Partner   \n",
       "A535277       Merlin  2015-04-20 16:04:00  Return_to_owner            NaN   \n",
       "A671169          NaN  2014-01-20 17:37:00       Euthanasia      Suffering   \n",
       "A679031         Pete  2014-05-31 16:11:00         Adoption            NaN   \n",
       "A708833         Luna  2015-08-05 17:03:00         Adoption            NaN   \n",
       "A697158          Max  2015-05-02 21:04:00         Adoption        Offsite   \n",
       "A519949        Bella  2014-06-30 17:34:00  Return_to_owner            NaN   \n",
       "A701044          NaN  2015-04-28 14:26:00         Adoption            NaN   \n",
       "A707871          NaN  2015-07-20 09:00:00         Transfer           SCRP   \n",
       "A704405      Brownie  2015-07-18 14:08:00         Adoption            NaN   \n",
       "A662019   Green Bean  2014-07-17 09:43:00         Adoption         Foster   \n",
       "A687056          NaN  2014-08-31 09:00:00         Transfer           SCRP   \n",
       "A716997         Zeus  2016-01-29 18:52:00         Adoption            NaN   \n",
       "A702446          NaN  2015-05-14 11:56:00         Transfer        Partner   \n",
       "A718934          NaN  2016-01-20 18:59:00         Transfer           SCRP   \n",
       "A698128         Zeus  2015-03-09 13:33:00         Adoption            NaN   \n",
       "A677478          NaN  2014-04-27 12:22:00         Transfer        Partner   \n",
       "A706629          NaN  2015-07-02 09:00:00         Transfer           SCRP   \n",
       "\n",
       "         AnimalType SexuponOutcome AgeuponOutcome  \\\n",
       "AnimalID                                            \n",
       "A671945         Dog  Neutered Male         1 year   \n",
       "A656520         Cat  Spayed Female         1 year   \n",
       "A686464         Dog  Neutered Male        2 years   \n",
       "A683430         Cat    Intact Male        3 weeks   \n",
       "A667013         Dog  Neutered Male        2 years   \n",
       "A677334         Dog  Intact Female        1 month   \n",
       "A699218         Cat    Intact Male        3 weeks   \n",
       "A701489         Cat        Unknown        3 weeks   \n",
       "A671784         Dog  Spayed Female       5 months   \n",
       "A677747         Dog  Spayed Female         1 year   \n",
       "A668402         Cat        Unknown        2 years   \n",
       "A666320         Dog  Spayed Female        2 years   \n",
       "A684601         Dog  Neutered Male        4 years   \n",
       "A704702         Dog  Neutered Male        2 years   \n",
       "A688584         Dog  Neutered Male         1 year   \n",
       "A678825         Cat  Neutered Male       3 months   \n",
       "A678050         Cat    Intact Male        3 weeks   \n",
       "A680028         Dog  Intact Female        2 weeks   \n",
       "A679010         Cat  Intact Female        2 years   \n",
       "A684787         Dog  Neutered Male         1 year   \n",
       "A670658         Dog    Intact Male       2 months   \n",
       "A708812         Cat  Spayed Female         1 year   \n",
       "A705262         Dog  Spayed Female        2 years   \n",
       "A665781         Dog  Neutered Male      10 months   \n",
       "A676333         Dog  Neutered Male       2 months   \n",
       "A712750         Cat  Intact Female        1 month   \n",
       "A718832         Dog  Spayed Female       6 months   \n",
       "A698777         Dog  Spayed Female        5 years   \n",
       "A715348         Cat  Spayed Female       2 months   \n",
       "A708666         Cat  Neutered Male        7 years   \n",
       "...             ...            ...            ...   \n",
       "A676460         Dog  Neutered Male        2 years   \n",
       "A704999         Dog    Intact Male      10 months   \n",
       "A678842         Dog  Intact Female      11 months   \n",
       "A713637         Cat  Spayed Female        2 years   \n",
       "A716670         Cat  Neutered Male        6 years   \n",
       "A716223         Cat  Intact Female        4 weeks   \n",
       "A662498         Cat  Intact Female       2 months   \n",
       "A689942         Cat  Spayed Female       2 months   \n",
       "A682690         Cat        Unknown         1 year   \n",
       "A666920         Dog  Neutered Male        2 years   \n",
       "A714386         Dog  Spayed Female        1 month   \n",
       "A692622         Dog  Intact Female        1 month   \n",
       "A666284         Dog  Intact Female         1 year   \n",
       "A535277         Dog  Neutered Male       12 years   \n",
       "A671169         Cat  Intact Female       18 years   \n",
       "A679031         Cat  Spayed Female       2 months   \n",
       "A708833         Dog  Spayed Female       2 months   \n",
       "A697158         Dog  Neutered Male       2 months   \n",
       "A519949         Dog  Spayed Female        9 years   \n",
       "A701044         Dog  Neutered Male       2 months   \n",
       "A707871         Cat        Unknown        2 years   \n",
       "A704405         Cat  Spayed Female       2 months   \n",
       "A662019         Cat  Spayed Female        5 years   \n",
       "A687056         Cat    Intact Male       5 months   \n",
       "A716997         Dog  Neutered Male        6 years   \n",
       "A702446         Cat    Intact Male        1 month   \n",
       "A718934         Cat  Spayed Female       3 months   \n",
       "A698128         Dog  Neutered Male        4 years   \n",
       "A677478         Cat    Intact Male        4 weeks   \n",
       "A706629         Cat    Intact Male         1 year   \n",
       "\n",
       "                                          Breed                Color  \n",
       "AnimalID                                                              \n",
       "A671945                   Shetland Sheepdog Mix          Brown/White  \n",
       "A656520                  Domestic Shorthair Mix          Cream Tabby  \n",
       "A686464                            Pit Bull Mix           Blue/White  \n",
       "A683430                  Domestic Shorthair Mix           Blue Cream  \n",
       "A667013             Lhasa Apso/Miniature Poodle                  Tan  \n",
       "A677334       Cairn Terrier/Chihuahua Shorthair            Black/Tan  \n",
       "A699218                  Domestic Shorthair Mix           Blue Tabby  \n",
       "A701489                  Domestic Shorthair Mix          Brown Tabby  \n",
       "A671784           American Pit Bull Terrier Mix            Red/White  \n",
       "A677747                           Cairn Terrier                White  \n",
       "A668402                  Domestic Shorthair Mix                Black  \n",
       "A666320                 Miniature Schnauzer Mix               Silver  \n",
       "A684601                            Pit Bull Mix                Brown  \n",
       "A704702                   Yorkshire Terrier Mix            Black/Red  \n",
       "A688584                      Great Pyrenees Mix          White/Cream  \n",
       "A678825                  Domestic Shorthair Mix   Orange Tabby/White  \n",
       "A678050                  Domestic Shorthair Mix          Brown Tabby  \n",
       "A680028                            Pit Bull Mix          Brown/White  \n",
       "A679010                              Angora Mix                White  \n",
       "A684787                 Flat Coat Retriever Mix                Black  \n",
       "A670658                   Queensland Heeler Mix          Black/White  \n",
       "A708812                  Domestic Shorthair Mix                White  \n",
       "A705262                       Plott Hound/Boxer  Brown Brindle/White  \n",
       "A665781                     German Shepherd Mix          Brown/White  \n",
       "A676333                     German Shepherd Mix          Black/Brown  \n",
       "A712750                  Domestic Shorthair Mix         Orange Tabby  \n",
       "A718832      American Staffordshire Terrier Mix      Chocolate/White  \n",
       "A698777                 Chihuahua Shorthair Mix            White/Tan  \n",
       "A715348                  Domestic Shorthair Mix    Cream Tabby/White  \n",
       "A708666                        Russian Blue Mix                 Blue  \n",
       "...                                         ...                  ...  \n",
       "A676460           American Pit Bull Terrier Mix          White/Black  \n",
       "A704999          Great Pyrenees/Anatol Shepherd            Tan/Cream  \n",
       "A678842                Jack Russell Terrier Mix          White/Black  \n",
       "A713637                             Siamese Mix           Lynx Point  \n",
       "A716670                   Domestic Longhair Mix           Seal Point  \n",
       "A716223                  Domestic Shorthair Mix          White/Black  \n",
       "A662498                  Domestic Shorthair Mix               Tortie  \n",
       "A689942                  Domestic Shorthair Mix                Black  \n",
       "A682690                  Domestic Shorthair Mix          Brown Tabby  \n",
       "A666920                 Chihuahua Shorthair Mix          White/Brown  \n",
       "A714386                 Chihuahua Shorthair Mix           Sable/Buff  \n",
       "A692622   Chihuahua Shorthair/Yorkshire Terrier          Brown/Black  \n",
       "A666284                Cocker Spaniel/Dachshund                 Buff  \n",
       "A535277                             Rat Terrier        Chocolate/Tan  \n",
       "A671169                   Domestic Longhair Mix               Tortie  \n",
       "A679031                  Domestic Shorthair Mix         Orange Tabby  \n",
       "A708833                             Pointer Mix          Black/White  \n",
       "A697158                        Newfoundland Mix          White/Black  \n",
       "A519949                         Bullmastiff Mix                Black  \n",
       "A701044          Siberian Husky/German Shepherd       Black/Tricolor  \n",
       "A707871                  Domestic Shorthair Mix    Brown Tabby/White  \n",
       "A704405                  Domestic Shorthair Mix          Brown Tabby  \n",
       "A662019                  Domestic Shorthair Mix                Black  \n",
       "A687056                  Domestic Shorthair Mix         Orange Tabby  \n",
       "A716997                       Staffordshire Mix           Blue/White  \n",
       "A702446                  Domestic Shorthair Mix    Brown Tabby/White  \n",
       "A718934                  Domestic Shorthair Mix          Brown Tabby  \n",
       "A698128                 Old English Bulldog Mix            White/Tan  \n",
       "A677478                  Domestic Shorthair Mix                Black  \n",
       "A706629                  Domestic Shorthair Mix    Brown Tabby/White  \n",
       "\n",
       "[26729 rows x 9 columns]"
      ]
     },
     "execution_count": 4,
     "metadata": {},
     "output_type": "execute_result"
    }
   ],
   "source": [
    "df\n"
   ]
  },
  {
   "cell_type": "code",
   "execution_count": 7,
   "metadata": {
    "collapsed": false
   },
   "outputs": [],
   "source": [
    "subset_df = df [df['AnimalType']== 'Cat']"
   ]
  },
  {
   "cell_type": "code",
   "execution_count": 11,
   "metadata": {
    "collapsed": false
   },
   "outputs": [
    {
     "data": {
      "text/plain": [
       "11134"
      ]
     },
     "execution_count": 11,
     "metadata": {},
     "output_type": "execute_result"
    }
   ],
   "source": [
    "len(subset_df)"
   ]
  },
  {
   "cell_type": "code",
   "execution_count": 6,
   "metadata": {
    "collapsed": false,
    "scrolled": true
   },
   "outputs": [
    {
     "data": {
      "text/html": [
       "<div>\n",
       "<table border=\"1\" class=\"dataframe\">\n",
       "  <thead>\n",
       "    <tr style=\"text-align: right;\">\n",
       "      <th></th>\n",
       "      <th>Name</th>\n",
       "      <th>DateTime</th>\n",
       "      <th>OutcomeType</th>\n",
       "      <th>OutcomeSubtype</th>\n",
       "      <th>AnimalType</th>\n",
       "      <th>SexuponOutcome</th>\n",
       "      <th>AgeuponOutcome</th>\n",
       "      <th>Breed</th>\n",
       "      <th>Color</th>\n",
       "    </tr>\n",
       "    <tr>\n",
       "      <th>AnimalID</th>\n",
       "      <th></th>\n",
       "      <th></th>\n",
       "      <th></th>\n",
       "      <th></th>\n",
       "      <th></th>\n",
       "      <th></th>\n",
       "      <th></th>\n",
       "      <th></th>\n",
       "      <th></th>\n",
       "    </tr>\n",
       "  </thead>\n",
       "  <tbody>\n",
       "    <tr>\n",
       "      <th>A702446</th>\n",
       "      <td>NaN</td>\n",
       "      <td>2015-05-14 11:56:00</td>\n",
       "      <td>Transfer</td>\n",
       "      <td>Partner</td>\n",
       "      <td>Cat</td>\n",
       "      <td>Intact Male</td>\n",
       "      <td>1 month</td>\n",
       "      <td>Domestic Shorthair Mix</td>\n",
       "      <td>Brown Tabby/White</td>\n",
       "    </tr>\n",
       "    <tr>\n",
       "      <th>A718934</th>\n",
       "      <td>NaN</td>\n",
       "      <td>2016-01-20 18:59:00</td>\n",
       "      <td>Transfer</td>\n",
       "      <td>SCRP</td>\n",
       "      <td>Cat</td>\n",
       "      <td>Spayed Female</td>\n",
       "      <td>3 months</td>\n",
       "      <td>Domestic Shorthair Mix</td>\n",
       "      <td>Brown Tabby</td>\n",
       "    </tr>\n",
       "    <tr>\n",
       "      <th>A698128</th>\n",
       "      <td>Zeus</td>\n",
       "      <td>2015-03-09 13:33:00</td>\n",
       "      <td>Adoption</td>\n",
       "      <td>NaN</td>\n",
       "      <td>Dog</td>\n",
       "      <td>Neutered Male</td>\n",
       "      <td>4 years</td>\n",
       "      <td>Old English Bulldog Mix</td>\n",
       "      <td>White/Tan</td>\n",
       "    </tr>\n",
       "    <tr>\n",
       "      <th>A677478</th>\n",
       "      <td>NaN</td>\n",
       "      <td>2014-04-27 12:22:00</td>\n",
       "      <td>Transfer</td>\n",
       "      <td>Partner</td>\n",
       "      <td>Cat</td>\n",
       "      <td>Intact Male</td>\n",
       "      <td>4 weeks</td>\n",
       "      <td>Domestic Shorthair Mix</td>\n",
       "      <td>Black</td>\n",
       "    </tr>\n",
       "    <tr>\n",
       "      <th>A706629</th>\n",
       "      <td>NaN</td>\n",
       "      <td>2015-07-02 09:00:00</td>\n",
       "      <td>Transfer</td>\n",
       "      <td>SCRP</td>\n",
       "      <td>Cat</td>\n",
       "      <td>Intact Male</td>\n",
       "      <td>1 year</td>\n",
       "      <td>Domestic Shorthair Mix</td>\n",
       "      <td>Brown Tabby/White</td>\n",
       "    </tr>\n",
       "  </tbody>\n",
       "</table>\n",
       "</div>"
      ],
      "text/plain": [
       "          Name             DateTime OutcomeType OutcomeSubtype AnimalType  \\\n",
       "AnimalID                                                                    \n",
       "A702446    NaN  2015-05-14 11:56:00    Transfer        Partner        Cat   \n",
       "A718934    NaN  2016-01-20 18:59:00    Transfer           SCRP        Cat   \n",
       "A698128   Zeus  2015-03-09 13:33:00    Adoption            NaN        Dog   \n",
       "A677478    NaN  2014-04-27 12:22:00    Transfer        Partner        Cat   \n",
       "A706629    NaN  2015-07-02 09:00:00    Transfer           SCRP        Cat   \n",
       "\n",
       "         SexuponOutcome AgeuponOutcome                    Breed  \\\n",
       "AnimalID                                                          \n",
       "A702446     Intact Male        1 month   Domestic Shorthair Mix   \n",
       "A718934   Spayed Female       3 months   Domestic Shorthair Mix   \n",
       "A698128   Neutered Male        4 years  Old English Bulldog Mix   \n",
       "A677478     Intact Male        4 weeks   Domestic Shorthair Mix   \n",
       "A706629     Intact Male         1 year   Domestic Shorthair Mix   \n",
       "\n",
       "                      Color  \n",
       "AnimalID                     \n",
       "A702446   Brown Tabby/White  \n",
       "A718934         Brown Tabby  \n",
       "A698128           White/Tan  \n",
       "A677478               Black  \n",
       "A706629   Brown Tabby/White  "
      ]
     },
     "execution_count": 6,
     "metadata": {},
     "output_type": "execute_result"
    }
   ],
   "source": [
    "df.tail()"
   ]
  },
  {
   "cell_type": "code",
   "execution_count": 8,
   "metadata": {
    "collapsed": false
   },
   "outputs": [
    {
     "data": {
      "text/plain": [
       "Index([u'Name', u'DateTime', u'OutcomeType', u'OutcomeSubtype', u'AnimalType',\n",
       "       u'SexuponOutcome', u'AgeuponOutcome', u'Breed', u'Color'],\n",
       "      dtype='object')"
      ]
     },
     "execution_count": 8,
     "metadata": {},
     "output_type": "execute_result"
    }
   ],
   "source": [
    "df.columns"
   ]
  },
  {
   "cell_type": "code",
   "execution_count": 10,
   "metadata": {
    "collapsed": false
   },
   "outputs": [
    {
     "data": {
      "text/plain": [
       "6375"
      ]
     },
     "execution_count": 10,
     "metadata": {},
     "output_type": "execute_result"
    }
   ],
   "source": [
    "len(df.Name.unique())"
   ]
  },
  {
   "cell_type": "code",
   "execution_count": 11,
   "metadata": {
    "collapsed": false
   },
   "outputs": [
    {
     "data": {
      "text/plain": [
       "Max            136\n",
       "Bella          135\n",
       "Charlie        107\n",
       "Daisy          106\n",
       "Lucy            94\n",
       "Buddy           87\n",
       "Princess        86\n",
       "Rocky           85\n",
       "Luna            68\n",
       "Jack            66\n",
       "Lola            61\n",
       "Sadie           58\n",
       "Molly           57\n",
       "Shadow          57\n",
       "Maggie          55\n",
       "Coco            55\n",
       "Chico           54\n",
       "Lily            53\n",
       "Oreo            53\n",
       "Blue            52\n",
       "Lucky           51\n",
       "Toby            50\n",
       "Cookie          48\n",
       "Ginger          48\n",
       "Lady            47\n",
       "Sam             46\n",
       "Duke            45\n",
       "Milo            44\n",
       "Oliver          44\n",
       "Sophie          44\n",
       "              ... \n",
       "Lady J           1\n",
       "Nemesis          1\n",
       "Corral           1\n",
       "Big Ben          1\n",
       "Thomasina        1\n",
       "Moscato          1\n",
       "Churley          1\n",
       "Jeb              1\n",
       "Baily            1\n",
       "Boom             1\n",
       "Jed              1\n",
       "Home Girl        1\n",
       "Hennesy          1\n",
       "Jolli            1\n",
       "Tabo             1\n",
       "Butterball       1\n",
       "Huitzi           1\n",
       "Billy Bob        1\n",
       "Guru Ramdas      1\n",
       "Mr.Cookie        1\n",
       "Tabs             1\n",
       "Eedo             1\n",
       "Marlyin          1\n",
       "Meerkat          1\n",
       "Tugga            1\n",
       "Sally Jessy      1\n",
       "Nelda            1\n",
       "Hobie Cat        1\n",
       "Madi             1\n",
       "Sumi             1\n",
       "Name: Name, dtype: int64"
      ]
     },
     "execution_count": 11,
     "metadata": {},
     "output_type": "execute_result"
    }
   ],
   "source": [
    "df.Name.value_counts()"
   ]
  },
  {
   "cell_type": "code",
   "execution_count": 12,
   "metadata": {
    "collapsed": false
   },
   "outputs": [
    {
     "data": {
      "text/plain": [
       "array(['Dog', 'Cat'], dtype=object)"
      ]
     },
     "execution_count": 12,
     "metadata": {},
     "output_type": "execute_result"
    }
   ],
   "source": [
    "df.AnimalType.unique()"
   ]
  },
  {
   "cell_type": "code",
   "execution_count": 13,
   "metadata": {
    "collapsed": false
   },
   "outputs": [
    {
     "data": {
      "text/plain": [
       "Dog    15595\n",
       "Cat    11134\n",
       "Name: AnimalType, dtype: int64"
      ]
     },
     "execution_count": 13,
     "metadata": {},
     "output_type": "execute_result"
    }
   ],
   "source": [
    "df.AnimalType.value_counts()"
   ]
  },
  {
   "cell_type": "code",
   "execution_count": 14,
   "metadata": {
    "collapsed": false
   },
   "outputs": [
    {
     "data": {
      "text/plain": [
       "array(['Return_to_owner', 'Euthanasia', 'Adoption', 'Transfer', 'Died'], dtype=object)"
      ]
     },
     "execution_count": 14,
     "metadata": {},
     "output_type": "execute_result"
    }
   ],
   "source": [
    "df.OutcomeType.unique()"
   ]
  },
  {
   "cell_type": "code",
   "execution_count": 15,
   "metadata": {
    "collapsed": false
   },
   "outputs": [
    {
     "data": {
      "text/plain": [
       "Adoption           10769\n",
       "Transfer            9422\n",
       "Return_to_owner     4786\n",
       "Euthanasia          1555\n",
       "Died                 197\n",
       "Name: OutcomeType, dtype: int64"
      ]
     },
     "execution_count": 15,
     "metadata": {},
     "output_type": "execute_result"
    }
   ],
   "source": [
    "df.OutcomeType.value_counts()"
   ]
  },
  {
   "cell_type": "code",
   "execution_count": 16,
   "metadata": {
    "collapsed": false
   },
   "outputs": [
    {
     "data": {
      "text/plain": [
       "Partner                7816\n",
       "Foster                 1800\n",
       "SCRP                   1599\n",
       "Suffering              1002\n",
       "Aggressive              320\n",
       "Offsite                 165\n",
       "In Kennel               114\n",
       "Behavior                 86\n",
       "Rabies Risk              74\n",
       "Medical                  66\n",
       "In Foster                52\n",
       "Enroute                   8\n",
       "Court/Investigation       6\n",
       "At Vet                    4\n",
       "In Surgery                3\n",
       "Barn                      2\n",
       "Name: OutcomeSubtype, dtype: int64"
      ]
     },
     "execution_count": 16,
     "metadata": {},
     "output_type": "execute_result"
    }
   ],
   "source": [
    "df.OutcomeSubtype.value_counts()"
   ]
  },
  {
   "cell_type": "code",
   "execution_count": 18,
   "metadata": {
    "collapsed": false
   },
   "outputs": [
    {
     "data": {
      "text/plain": [
       "Neutered Male    9779\n",
       "Spayed Female    8820\n",
       "Intact Male      3525\n",
       "Intact Female    3511\n",
       "Unknown          1093\n",
       "Name: SexuponOutcome, dtype: int64"
      ]
     },
     "execution_count": 18,
     "metadata": {},
     "output_type": "execute_result"
    }
   ],
   "source": [
    "df.SexuponOutcome.value_counts()"
   ]
  },
  {
   "cell_type": "code",
   "execution_count": 19,
   "metadata": {
    "collapsed": false
   },
   "outputs": [
    {
     "data": {
      "text/plain": [
       "array(['Neutered Male', 'Spayed Female', 'Intact Male', 'Intact Female',\n",
       "       'Unknown', nan], dtype=object)"
      ]
     },
     "execution_count": 19,
     "metadata": {},
     "output_type": "execute_result"
    }
   ],
   "source": [
    "df.SexuponOutcome.unique()"
   ]
  },
  {
   "cell_type": "code",
   "execution_count": 20,
   "metadata": {
    "collapsed": false
   },
   "outputs": [
    {
     "data": {
      "text/plain": [
       "True"
      ]
     },
     "execution_count": 20,
     "metadata": {},
     "output_type": "execute_result"
    }
   ],
   "source": [
    "'Male' in 'Neutered Male'"
   ]
  },
  {
   "cell_type": "code",
   "execution_count": 21,
   "metadata": {
    "collapsed": false
   },
   "outputs": [
    {
     "data": {
      "text/plain": [
       "False"
      ]
     },
     "execution_count": 21,
     "metadata": {},
     "output_type": "execute_result"
    }
   ],
   "source": [
    "'Female' in 'Neutered Male'"
   ]
  },
  {
   "cell_type": "code",
   "execution_count": 26,
   "metadata": {
    "collapsed": false
   },
   "outputs": [],
   "source": [
    "is_male = df.SexuponOutcome.apply(lambda sex: 'Male' in sex)"
   ]
  },
  {
   "cell_type": "code",
   "execution_count": 27,
   "metadata": {
    "collapsed": true
   },
   "outputs": [],
   "source": [
    "df.SexuponOutcome = df.SexuponOutcome.apply(lambda sex: 'Unknown'if pd.isnull(sex) else sex)"
   ]
  },
  {
   "cell_type": "code",
   "execution_count": 28,
   "metadata": {
    "collapsed": false
   },
   "outputs": [
    {
     "data": {
      "text/plain": [
       "array(['Neutered Male', 'Spayed Female', 'Intact Male', 'Intact Female',\n",
       "       'Unknown'], dtype=object)"
      ]
     },
     "execution_count": 28,
     "metadata": {},
     "output_type": "execute_result"
    }
   ],
   "source": [
    "df.SexuponOutcome.unique()"
   ]
  },
  {
   "cell_type": "code",
   "execution_count": 45,
   "metadata": {
    "collapsed": false,
    "scrolled": true
   },
   "outputs": [
    {
     "data": {
      "text/plain": [
       "AnimalID\n",
       "A671945     True\n",
       "A656520    False\n",
       "A686464     True\n",
       "A683430     True\n",
       "A667013     True\n",
       "A677334    False\n",
       "A699218     True\n",
       "A701489    False\n",
       "A671784    False\n",
       "A677747    False\n",
       "A668402    False\n",
       "A666320    False\n",
       "A684601     True\n",
       "A704702     True\n",
       "A688584     True\n",
       "A678825     True\n",
       "A678050     True\n",
       "A680028    False\n",
       "A679010    False\n",
       "A684787     True\n",
       "A670658     True\n",
       "A708812    False\n",
       "A705262    False\n",
       "A665781     True\n",
       "A676333     True\n",
       "A712750    False\n",
       "A718832    False\n",
       "A698777    False\n",
       "A715348    False\n",
       "A708666     True\n",
       "           ...  \n",
       "A676460     True\n",
       "A704999     True\n",
       "A678842    False\n",
       "A713637    False\n",
       "A716670     True\n",
       "A716223    False\n",
       "A662498    False\n",
       "A689942    False\n",
       "A682690    False\n",
       "A666920     True\n",
       "A714386    False\n",
       "A692622    False\n",
       "A666284    False\n",
       "A535277     True\n",
       "A671169    False\n",
       "A679031    False\n",
       "A708833    False\n",
       "A697158     True\n",
       "A519949    False\n",
       "A701044     True\n",
       "A707871    False\n",
       "A704405    False\n",
       "A662019    False\n",
       "A687056     True\n",
       "A716997     True\n",
       "A702446     True\n",
       "A718934    False\n",
       "A698128     True\n",
       "A677478     True\n",
       "A706629     True\n",
       "Name: SexuponOutcome, dtype: bool"
      ]
     },
     "execution_count": 45,
     "metadata": {},
     "output_type": "execute_result"
    }
   ],
   "source": [
    "is_male "
   ]
  },
  {
   "cell_type": "code",
   "execution_count": 46,
   "metadata": {
    "collapsed": false
   },
   "outputs": [],
   "source": [
    "is_female = df.SexuponOutcome.apply (lambda sex: 'Female' in sex)"
   ]
  },
  {
   "cell_type": "code",
   "execution_count": 51,
   "metadata": {
    "collapsed": true
   },
   "outputs": [],
   "source": [
    "df['Sex'] = 'Unknown'"
   ]
  },
  {
   "cell_type": "code",
   "execution_count": 52,
   "metadata": {
    "collapsed": false
   },
   "outputs": [
    {
     "data": {
      "text/plain": [
       "'Unknown'"
      ]
     },
     "execution_count": 52,
     "metadata": {},
     "output_type": "execute_result"
    }
   ],
   "source": [
    "df.Sex"
   ]
  },
  {
   "cell_type": "code",
   "execution_count": 49,
   "metadata": {
    "collapsed": false
   },
   "outputs": [
    {
     "ename": "AttributeError",
     "evalue": "'str' object has no attribute 'value_counts'",
     "output_type": "error",
     "traceback": [
      "\u001b[0;31m---------------------------------------------------------------------------\u001b[0m",
      "\u001b[0;31mAttributeError\u001b[0m                            Traceback (most recent call last)",
      "\u001b[0;32m<ipython-input-49-263e7812e64e>\u001b[0m in \u001b[0;36m<module>\u001b[0;34m()\u001b[0m\n\u001b[0;32m----> 1\u001b[0;31m \u001b[0mdf\u001b[0m\u001b[0;34m.\u001b[0m\u001b[0mSex\u001b[0m\u001b[0;34m.\u001b[0m\u001b[0mvalue_counts\u001b[0m\u001b[0;34m(\u001b[0m\u001b[0;34m)\u001b[0m\u001b[0;34m\u001b[0m\u001b[0m\n\u001b[0m",
      "\u001b[0;31mAttributeError\u001b[0m: 'str' object has no attribute 'value_counts'"
     ]
    }
   ],
   "source": [
    "df.Sex.value_counts()"
   ]
  },
  {
   "cell_type": "code",
   "execution_count": 50,
   "metadata": {
    "collapsed": true
   },
   "outputs": [],
   "source": [
    "df.loc[is_male, 'Sex'] = 'Male'"
   ]
  },
  {
   "cell_type": "code",
   "execution_count": 44,
   "metadata": {
    "collapsed": false
   },
   "outputs": [
    {
     "ename": "AttributeError",
     "evalue": "'str' object has no attribute 'value_counts'",
     "output_type": "error",
     "traceback": [
      "\u001b[0;31m---------------------------------------------------------------------------\u001b[0m",
      "\u001b[0;31mAttributeError\u001b[0m                            Traceback (most recent call last)",
      "\u001b[0;32m<ipython-input-44-263e7812e64e>\u001b[0m in \u001b[0;36m<module>\u001b[0;34m()\u001b[0m\n\u001b[0;32m----> 1\u001b[0;31m \u001b[0mdf\u001b[0m\u001b[0;34m.\u001b[0m\u001b[0mSex\u001b[0m\u001b[0;34m.\u001b[0m\u001b[0mvalue_counts\u001b[0m\u001b[0;34m(\u001b[0m\u001b[0;34m)\u001b[0m\u001b[0;34m\u001b[0m\u001b[0m\n\u001b[0m",
      "\u001b[0;31mAttributeError\u001b[0m: 'str' object has no attribute 'value_counts'"
     ]
    }
   ],
   "source": [
    "df.Sex.value_counts()"
   ]
  },
  {
   "cell_type": "code",
   "execution_count": 53,
   "metadata": {
    "collapsed": false
   },
   "outputs": [
    {
     "data": {
      "text/plain": [
       "array(['1 year', '2 years', '3 weeks', '1 month', '5 months', '4 years',\n",
       "       '3 months', '2 weeks', '2 months', '10 months', '6 months',\n",
       "       '5 years', '7 years', '3 years', '4 months', '12 years', '9 years',\n",
       "       '6 years', '1 weeks', '11 years', '4 weeks', '7 months', '8 years',\n",
       "       '11 months', '4 days', '9 months', '8 months', '15 years',\n",
       "       '10 years', '1 week', '0 years', '14 years', '3 days', '6 days',\n",
       "       '5 days', '5 weeks', '2 days', '16 years', '1 day', '13 years', nan,\n",
       "       '17 years', '18 years', '19 years', '20 years'], dtype=object)"
      ]
     },
     "execution_count": 53,
     "metadata": {},
     "output_type": "execute_result"
    }
   ],
   "source": [
    "df.AgeuponOutcome.unique()"
   ]
  },
  {
   "cell_type": "code",
   "execution_count": 59,
   "metadata": {
    "collapsed": true
   },
   "outputs": [],
   "source": [
    "a = '12 year'"
   ]
  },
  {
   "cell_type": "code",
   "execution_count": 71,
   "metadata": {
    "collapsed": true
   },
   "outputs": [],
   "source": [
    "a = '7 months'"
   ]
  },
  {
   "cell_type": "code",
   "execution_count": 72,
   "metadata": {
    "collapsed": false
   },
   "outputs": [
    {
     "data": {
      "text/plain": [
       "'7 months'"
      ]
     },
     "execution_count": 72,
     "metadata": {},
     "output_type": "execute_result"
    }
   ],
   "source": [
    "a"
   ]
  },
  {
   "cell_type": "code",
   "execution_count": 73,
   "metadata": {
    "collapsed": true
   },
   "outputs": [],
   "source": [
    "import re \n"
   ]
  },
  {
   "cell_type": "code",
   "execution_count": 74,
   "metadata": {
    "collapsed": false
   },
   "outputs": [],
   "source": [
    "match = re.search(r'(\\d+)(\\s+[^s])', a)"
   ]
  },
  {
   "cell_type": "code",
   "execution_count": 75,
   "metadata": {
    "collapsed": false
   },
   "outputs": [
    {
     "data": {
      "text/plain": [
       "7"
      ]
     },
     "execution_count": 75,
     "metadata": {},
     "output_type": "execute_result"
    }
   ],
   "source": [
    "int(match.group(1))"
   ]
  },
  {
   "cell_type": "code",
   "execution_count": 76,
   "metadata": {
    "collapsed": false
   },
   "outputs": [
    {
     "data": {
      "text/plain": [
       "' m'"
      ]
     },
     "execution_count": 76,
     "metadata": {},
     "output_type": "execute_result"
    }
   ],
   "source": [
    "match.group(2)"
   ]
  },
  {
   "cell_type": "code",
   "execution_count": 78,
   "metadata": {
    "collapsed": false
   },
   "outputs": [
    {
     "data": {
      "text/plain": [
       "1380"
      ]
     },
     "execution_count": 78,
     "metadata": {},
     "output_type": "execute_result"
    }
   ],
   "source": [
    "len(df.Breed.unique())"
   ]
  },
  {
   "cell_type": "code",
   "execution_count": null,
   "metadata": {
    "collapsed": true
   },
   "outputs": [],
   "source": []
  }
 ],
 "metadata": {
  "kernelspec": {
   "display_name": "Python 2",
   "language": "python",
   "name": "python2"
  },
  "language_info": {
   "codemirror_mode": {
    "name": "ipython",
    "version": 2
   },
   "file_extension": ".py",
   "mimetype": "text/x-python",
   "name": "python",
   "nbconvert_exporter": "python",
   "pygments_lexer": "ipython2",
   "version": "2.7.11"
  }
 },
 "nbformat": 4,
 "nbformat_minor": 0
}
